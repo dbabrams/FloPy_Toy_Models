{
 "cells": [
  {
   "cell_type": "markdown",
   "metadata": {
    "colab_type": "text",
    "id": "aGqCJ4Bi-tqz"
   },
   "source": [
    "# Flopy Tutorial 1: Steady-State, Confined Aquifer "
   ]
  },
  {
   "cell_type": "markdown",
   "metadata": {
    "colab_type": "text",
    "id": "e-P6TXXqJU05"
   },
   "source": [
    "# Introduction\n",
    "Flopy is a python package, developed to create and run MODFLOW groundwater flow models. The schematic below, illustrates how Flopy communicates with MODFLOW:\n",
    "\n",
    "<img src=\"https://i.imgur.com/n2Dj6QF.png\" title=\"Flopy to MODFLOW Flow Chart\" /></a>\n",
    "\n",
    "* <strong> <font size = 5> 1 </font> </strong> Aquifer properties are collected or estimated from some aquifer system, including dimensions, elevations, hydraulic conductivity, specific storage/yield and location/properties of wells, rivers, lakes or other hydrologic features. \n",
    "\n",
    "* <strong> <font size = 5> 2 </font> </strong> A model is created in a python script using the Flopy package to set up the different Packages MODFLOW uses to run its groundwater flow models, (DIS, BAS, LPF, RIV, WEL, ETC...), as python objects. \n",
    "\n",
    "* <strong> <font size = 5> 3 </font> </strong> Flopy is called to write the MODFLOW input files from these objects. \n",
    "\n",
    "* <strong> <font size = 5> 4 </font> </strong> A Flopy function sends the files to a specified MODFLOW executable program that will be used to solve the groundwater flow model. \n",
    "\n",
    "* <strong> <font size = 5> 5 </font> </strong> The MODFLOW executable program outputs binary data into head and budget files. \n",
    "\n",
    "* <strong> <font size = 5> 6 </font> </strong> Flopy reads in binary head and budget data from the MODFLOW output files.\n",
    "\n",
    "* <strong> <font size = 5> 7 </font> </strong> Data is visualized using Flopy's plotting capabilities.        \n",
    "\n",
    "\n",
    "## Contents of script:\n",
    "\n",
    "* <strong><a href=\"#I\">I: Model Object </a></strong>\n",
    "\n",
    "\n",
    "#### Creating MODFLOW Packages in Flopy:\n",
    "* <strong><a href=\"#II\">II: DIS Package</a> </strong> \n",
    "    <ul>\n",
    "      <li> Discretizing time & space and setting up the MODFLOW DIS file.</li>  \n",
    "        </ul>\n",
    "    \n",
    "* <strong><a href=\"#III\">III: BAS Package</a> </strong>\n",
    "    <ul>\n",
    "      <li> Specifying cell activity and setting up the MODFLOW BAS file.</li>  \n",
    "        </ul>\n",
    "* <strong><a href=\"#IV\">IV: LPF Package</a> </strong>\n",
    "    <ul>\n",
    "      <li> Defining model properties and setting up the MODFLOW LPF file.</li>  \n",
    "        </ul>\n",
    "\n",
    "* <strong><a href=\"#V\">V: OC Package</a> </strong>\n",
    "    <ul>\n",
    "      <li> Specifying the data that the MODFLOW executable will record as output during the model run and setting up the MODFLOW OC package.</li>  \n",
    "        </ul>\n",
    "\n",
    "* <strong><a href=\"#VI\">VI: PCG Package</a> </strong>\n",
    "    <ul>\n",
    "      <li> Assigning the pre-conditioned conjugate gradient solver to the groundwater flow model by setting up the MODFLOW PCG package.</li>  \n",
    "        </ul>\n",
    "\n",
    "#### Writing Files and Running Model:\n",
    "\n",
    "* <strong><a href=\"#VII\">VII: Write MODFLOW Input Files</a> </strong>\n",
    "* <strong><a href=\"#VIII\">VIII: Run MODFLOW executable</a> </strong>\n",
    "\n",
    "#### Post Processing:\n",
    "* <strong><a href=\"#IX\">IX: Read MODFLOW output</a> </strong>\n",
    "* <strong><a href=\"#X\">X: Plot Results</a> </strong>\n",
    "    </li>\n",
    "<ol>\n",
    "\n"
   ]
  },
  {
   "cell_type": "markdown",
   "metadata": {
    "colab_type": "text",
    "id": "Ebx4wqUE-tq4"
   },
   "source": [
    "- First we will import the appropriate packages to run a modflow model in python and display the data"
   ]
  },
  {
   "cell_type": "code",
   "execution_count": 1,
   "metadata": {
    "colab": {
     "base_uri": "https://localhost:8080/",
     "height": 34
    },
    "colab_type": "code",
    "id": "UmQLU45S-tq5",
    "outputId": "8dc0b30f-cd0c-41f0-cf90-8777d8557b0b"
   },
   "outputs": [
    {
     "name": "stdout",
     "output_type": "stream",
     "text": [
      "flopy is installed in C:\\Users\\bigda\\Anaconda3\\lib\\site-packages\\flopy\n"
     ]
    }
   ],
   "source": [
    "import flopy\n",
    "import numpy as np\n",
    "import matplotlib.pyplot as plt\n",
    "import matplotlib as mp\n",
    "\n",
    "\n",
    "#jupyter specific--included to show plots in notebook\n",
    "%matplotlib inline "
   ]
  },
  {
   "cell_type": "markdown",
   "metadata": {
    "colab_type": "text",
    "id": "TYsgVFMC-tq9"
   },
   "source": [
    " <a name=\"I\"></a> \n",
    " ## I. Create Model Object\n",
    "\n",
    "- We define a Modflow model class object using the following flopy function. The arguments are telling object 'model' what the modelname is and where the MODFLOW .exe file is to use to run the model on your computer. <strong> You will have to modify the exe_name variable to direct flopy to the modflow executable file on your computer!</strong> Note that the default model workspace is the location of your python notebook, so all MODFLOW files will be created there, but you may specify a different workspace if you'd like the files to be created somewhere else. (See: http://modflowpy.github.io/flopydoc/mf.html for more options)"
   ]
  },
  {
   "cell_type": "code",
   "execution_count": 2,
   "metadata": {
    "colab": {},
    "colab_type": "code",
    "id": "RhU9t5Vg-tq9"
   },
   "outputs": [],
   "source": [
    "modelname = \"my_model\"\n",
    "m = flopy.modflow.Modflow(modelname, exe_name = 'mf2005')"
   ]
  },
  {
   "cell_type": "markdown",
   "metadata": {
    "colab_type": "text",
    "id": "Z5qFnrjJ-trA"
   },
   "source": [
    " <a name=\"II\"></a> \n",
    "## II. MODFLOW DIS package\n",
    "Now we attach the DIS package to our model. The DIS package specifies model discretization in space and time. It contains information regarding:\n",
    "- <strong> spatial discretization: </strong> (the number of rows, layers, and columns, as well as cell sizes)\n",
    "- <strong> temporal discretization: </strong> (number of stress periods, steady-state/transient model within a stress period, length of stress periods, and the number of time steps within stress periods)\n",
    "- length and time <strong> units  </strong>\n",
    "\n",
    "### Spatial Discretization\n",
    "- We define a 100 x 100 unit model domain, and discretize this into 10 rows and columns. "
   ]
  },
  {
   "cell_type": "code",
   "execution_count": 3,
   "metadata": {},
   "outputs": [],
   "source": [
    "import pyproj\n",
    "\n",
    "sw_lat = 39.9727\n",
    "sw_long = -90.537\n",
    "ne_lat = 40.6657\n",
    "ne_long = -89.1371"
   ]
  },
  {
   "cell_type": "code",
   "execution_count": 4,
   "metadata": {
    "colab": {},
    "colab_type": "code",
    "id": "lMGujmgg-trB"
   },
   "outputs": [
    {
     "name": "stdout",
     "output_type": "stream",
     "text": [
      "3100161.847052066 2780027.6572293774\n",
      "2710900.36135791 2530335.918540591\n",
      "15\n",
      "23\n"
     ]
    }
   ],
   "source": [
    "D = {'proj': 'lcc',\n",
    "        'ellps': 'clrk66',\n",
    "        'lon_0': -89.5,\n",
    "        'lat_0': 33,\n",
    "        'lat_1': 33,\n",
    "        'lat_2': 45,\n",
    "        'x_0': 2999994*0.3048006096012192, # pyproj expects meters\n",
    "        'y_0': 0}\n",
    "\n",
    "prj = pyproj.Proj(D) \n",
    "nex, ney = prj(ne_long, ne_lat)\n",
    "#nex, ney = round(nex/0.3048006096012192,-4), round(ney/0.3048006096012192,-4) # we want to work in feet\n",
    "print(nex/0.3048006096012192,ney/0.3048006096012192)\n",
    "\n",
    "swx, swy = prj(sw_long, sw_lat)\n",
    "#swx, swy = round(swx/0.3048006096012192,-4), round(swy/0.3048006096012192,-4) # we want to work in feet\n",
    "print(swx/0.3048006096012192,swy/0.3048006096012192)\n",
    "\n",
    "#assign discretization variables\n",
    "Lx = nex-swx\n",
    "Ly = ney-swy\n",
    "ztop = 0.\n",
    "zbot = -50.\n",
    "nlay = 1\n",
    "\n",
    "dx = 5000.\n",
    "dy = 5000.\n",
    "\n",
    "nrow = int(Ly/dy)\n",
    "ncol = int(Lx/dx)\n",
    "print(nrow)\n",
    "print(ncol)\n",
    "dz = (ztop - zbot) / nlay"
   ]
  },
  {
   "cell_type": "markdown",
   "metadata": {
    "colab_type": "text",
    "id": "4RVvBjto-trE"
   },
   "source": [
    "<img src=\"https://i.imgur.com/Abaeeyo.png\" title=\"discretization\" /></a>"
   ]
  },
  {
   "cell_type": "markdown",
   "metadata": {
    "colab_type": "text",
    "id": "r_g1l4NG-trF"
   },
   "source": [
    "### Temporal Discretization\n",
    "\n",
    "To discretize time, we must first specify how many stress periods are involved in this model. This is done through flopy's variable 'nper'. As we are solving a steady-state model, we will only specify 1 stress period."
   ]
  },
  {
   "cell_type": "code",
   "execution_count": 5,
   "metadata": {
    "colab": {},
    "colab_type": "code",
    "id": "qGyoTItl-trG"
   },
   "outputs": [],
   "source": [
    "#specify number of stress periods\n",
    "nper = 1"
   ]
  },
  {
   "cell_type": "markdown",
   "metadata": {
    "colab_type": "text",
    "id": "MXtv1qBN-trJ"
   },
   "source": [
    "We then create a variable called \"steady\" as a list of boolean \"True/False\" flags, one for each stress period, indicating whether the finite difference solver should solve a steady-state or transient model. True=steady-state, False=Transient. Our list will only contain one boolean for the single, steady-state stress period."
   ]
  },
  {
   "cell_type": "code",
   "execution_count": 6,
   "metadata": {
    "colab": {
     "base_uri": "https://localhost:8080/",
     "height": 51
    },
    "colab_type": "code",
    "id": "72Nea-h5-trK",
    "outputId": "fc368da1-e3ef-4aa5-8b0e-d64eeab6d666",
    "scrolled": true
   },
   "outputs": [
    {
     "name": "stdout",
     "output_type": "stream",
     "text": [
      "steady-state data: \n",
      " [True]\n"
     ]
    }
   ],
   "source": [
    "#specify if stress period is transient or steady-state\n",
    "steady = [True]\n",
    "\n",
    "print(\"steady-state data: \\n\", steady)"
   ]
  },
  {
   "cell_type": "markdown",
   "metadata": {
    "colab_type": "text",
    "id": "emYj-jv_-trO"
   },
   "source": [
    "There are several other variables involved in the DIS package that allow the user to specify time-step properties of the stress period data (legnth of stress period, number of time steps per stress period, and time step multiplier). As this model is a single period, steady-state model, these options don't apply and hence we will not specify them."
   ]
  },
  {
   "cell_type": "markdown",
   "metadata": {
    "colab_type": "text",
    "id": "ZgOpDpMV-trP"
   },
   "source": [
    "### Create DIS object\n",
    "\n",
    "The spatial and temporal discretizations are used to create the flopy dis object which will later be used to create the MODFLOW \"dis\" package. "
   ]
  },
  {
   "cell_type": "code",
   "execution_count": 7,
   "metadata": {
    "colab": {},
    "colab_type": "code",
    "id": "mrGyylAl-trQ"
   },
   "outputs": [],
   "source": [
    "#create flopy discretization object, length and time are meters (2) and days (4)\n",
    "dis = flopy.modflow.ModflowDis(model=m, nlay=nlay, nrow=nrow, ncol=ncol, \n",
    "                               delr=dx, delc=dy, top=ztop, botm=zbot, \n",
    "                               itmuni = 4, lenuni = 2, \n",
    "                               nper=nper, steady=steady)"
   ]
  },
  {
   "cell_type": "code",
   "execution_count": 8,
   "metadata": {
    "colab": {
     "base_uri": "https://localhost:8080/",
     "height": 34
    },
    "colab_type": "code",
    "id": "TjJAK2nz-trT",
    "outputId": "3916bfaf-1d37-48a9-f525-e2d358d87e2b"
   },
   "outputs": [
    {
     "data": {
      "text/plain": [
       "1"
      ]
     },
     "execution_count": 8,
     "metadata": {},
     "output_type": "execute_result"
    }
   ],
   "source": [
    "m.dis.nlay"
   ]
  },
  {
   "cell_type": "markdown",
   "metadata": {
    "colab_type": "text",
    "id": "sWxtQ67b-trX"
   },
   "source": [
    "Confused about the arguments given to the flopy.modflow.ModflowDis() function? \n",
    "Check out the Flopy documentation here: http://modflowpy.github.io/flopydoc/mfdis.html \n",
    "\n",
    "If you'd like to see the grid you've created, flopy has plotting capabilities to visualize \"ModelMap\" attributes such as the grid, which it pulls from the flopy \"dis\" object. Note that ModelMap uses matplotlib, so you will want to make sure you have that package imported at the top of your script as well!"
   ]
  },
  {
   "cell_type": "code",
   "execution_count": 9,
   "metadata": {
    "colab": {
     "base_uri": "https://localhost:8080/",
     "height": 301
    },
    "colab_type": "code",
    "id": "niUhwUK5-trZ",
    "outputId": "e1284cff-feb4-4509-a57d-60929512e4c1"
   },
   "outputs": [
    {
     "data": {
      "image/png": "[encoded data removed]",
      "text/plain": [
       "<Figure size 432x288 with 1 Axes>"
      ]
     },
     "metadata": {
      "needs_background": "light"
     },
     "output_type": "display_data"
    }
   ],
   "source": [
    "#use flopy to plot the grid of model 'm'\n",
    "modelmap = flopy.plot.map.PlotMapView(model=m, layer=0)\n",
    "grid = modelmap.plot_grid() \n",
    "plt.xlabel('Lx (m)',fontsize = 14)\n",
    "plt.ylabel('Ly (m)',fontsize = 14)\n",
    "plt.title('Grid', fontsize = 15, fontweight = 'bold')\n",
    "plt.show()"
   ]
  },
  {
   "cell_type": "markdown",
   "metadata": {
    "colab_type": "text",
    "id": "KCwlZfxG-tre"
   },
   "source": [
    " <a name=\"III\"></a> \n",
    "## III. MODFLOW BAS package\n",
    "\n",
    "Next, we attach the BAS package to our model. The BAS package specifies cell activity (how cells will participate in the model run) as well as starting heads to be used in the cells at the start of the groundwater flow simulation.\n",
    "\n",
    "### Define Cell Activity: IBOUND\n",
    "\n",
    "We assign the cell activity using a variable called <strong>IBOUND</strong>. Ibound is defined as an array of integers of form (nlay, nrow, ncol), or one for each cell with flags for the activity level:\n",
    "\n",
    "- <strong> >/= 1: active </strong> (cell has active finite difference equations calculating the head for this cell as well as flows between its neighbors) \n",
    "- <strong> = 0: inactive </strong> (cell has no active finite difference equations associated with it)\n",
    "- <strong> </= 0: constant head </strong>  (cell has active finite difference equation for flows between cells but not for head at the cell as it is kept constant throughout the simulation)\n",
    "\n",
    "For this model, the first and last column are set to be constant heads and the rest of the domain is set as active. "
   ]
  },
  {
   "cell_type": "code",
   "execution_count": 10,
   "metadata": {
    "colab": {
     "base_uri": "https://localhost:8080/",
     "height": 204
    },
    "colab_type": "code",
    "id": "v1mYp41--trg",
    "outputId": "f0f0c0dc-cee7-4976-a8db-09da83763f86"
   },
   "outputs": [
    {
     "name": "stdout",
     "output_type": "stream",
     "text": [
      "ibound values: \n",
      " [[[-1  1  1  1  1  1  1  1  1  1  1  1  1  1  1  1  1  1  1  1  1  1 -1]\n",
      "  [-1  1  1  1  1  1  1  1  1  1  1  1  1  1  1  1  1  1  1  1  1  1 -1]\n",
      "  [-1  1  1  1  1  1  1  1  1  1  1  1  1  1  1  1  1  1  1  1  1  1 -1]\n",
      "  [-1  1  1  1  1  1  1  1  1  1  1  1  1  1  1  1  1  1  1  1  1  1 -1]\n",
      "  [-1  1  1  1  1  1  1  1  1  1  1  1  1  1  1  1  1  1  1  1  1  1 -1]\n",
      "  [-1  1  1  1  1  1  1  1  1  1  1  1  1  1  1  1  1  1  1  1  1  1 -1]\n",
      "  [-1  1  1  1  1  1  1  1  1  1  1  1  1  1  1  1  1  1  1  1  1  1 -1]\n",
      "  [-1  1  1  1  1  1  1  1  1  1  1  1  1  1  1  1  1  1  1  1  1  1 -1]\n",
      "  [-1  1  1  1  1  1  1  1  1  1  1  1  1  1  1  1  1  1  1  1  1  1 -1]\n",
      "  [-1  1  1  1  1  1  1  1  1  1  1  1  1  1  1  1  1  1  1  1  1  1 -1]\n",
      "  [-1  1  1  1  1  1  1  1  1  1  1  1  1  1  1  1  1  1  1  1  1  1 -1]\n",
      "  [-1  1  1  1  1  1  1  1  1  1  1  1  1  1  1  1  1  1  1  1  1  1 -1]\n",
      "  [-1  1  1  1  1  1  1  1  1  1  1  1  1  1  1  1  1  1  1  1  1  1 -1]\n",
      "  [-1  1  1  1  1  1  1  1  1  1  1  1  1  1  1  1  1  1  1  1  1  1 -1]\n",
      "  [-1  1  1  1  1  1  1  1  1  1  1  1  1  1  1  1  1  1  1  1  1  1 -1]]]\n"
     ]
    }
   ],
   "source": [
    "#create ibound as array of ints = 1\n",
    "ibound = np.ones((nlay, nrow, ncol), dtype=np.int32)\n",
    "#assign left and right boundary cells to constant head\n",
    "ibound[:, :, 0] = -1\n",
    "ibound[:, :, -1] = -1\n",
    "\n",
    "print(\"ibound values: \\n\", ibound)"
   ]
  },
  {
   "cell_type": "markdown",
   "metadata": {
    "colab_type": "text",
    "id": "Jn6pjjh--trm"
   },
   "source": [
    "### Define Starting Heads\n",
    "\n",
    "Values for starting heads are given cell by cell with the variable <strong>strt</strong> defined as an array of floats of form (nlay, nrow, ncol). For this model the left and right boundaries are set to be constant heads in the IBOUND variable, so the starting heads assigned to these cells will be set throughout the model. Since we are interested in steady-state flow from a left boundary of h=10m and right boundary of h=0m we assign those conditions in the strt variable."
   ]
  },
  {
   "cell_type": "code",
   "execution_count": 11,
   "metadata": {
    "colab": {
     "base_uri": "https://localhost:8080/",
     "height": 204
    },
    "colab_type": "code",
    "id": "s5vtgQEq-trn",
    "outputId": "a4236f73-0a8f-45b2-af79-a8a07d19b674"
   },
   "outputs": [
    {
     "name": "stdout",
     "output_type": "stream",
     "text": [
      "starting head values: \n",
      " [[[10.  1.  1.  1.  1.  1.  1.  1.  1.  1.  1.  1.  1.  1.  1.  1.  1.\n",
      "    1.  1.  1.  1.  1.  0.]\n",
      "  [10.  1.  1.  1.  1.  1.  1.  1.  1.  1.  1.  1.  1.  1.  1.  1.  1.\n",
      "    1.  1.  1.  1.  1.  0.]\n",
      "  [10.  1.  1.  1.  1.  1.  1.  1.  1.  1.  1.  1.  1.  1.  1.  1.  1.\n",
      "    1.  1.  1.  1.  1.  0.]\n",
      "  [10.  1.  1.  1.  1.  1.  1.  1.  1.  1.  1.  1.  1.  1.  1.  1.  1.\n",
      "    1.  1.  1.  1.  1.  0.]\n",
      "  [10.  1.  1.  1.  1.  1.  1.  1.  1.  1.  1.  1.  1.  1.  1.  1.  1.\n",
      "    1.  1.  1.  1.  1.  0.]\n",
      "  [10.  1.  1.  1.  1.  1.  1.  1.  1.  1.  1.  1.  1.  1.  1.  1.  1.\n",
      "    1.  1.  1.  1.  1.  0.]\n",
      "  [10.  1.  1.  1.  1.  1.  1.  1.  1.  1.  1.  1.  1.  1.  1.  1.  1.\n",
      "    1.  1.  1.  1.  1.  0.]\n",
      "  [10.  1.  1.  1.  1.  1.  1.  1.  1.  1.  1.  1.  1.  1.  1.  1.  1.\n",
      "    1.  1.  1.  1.  1.  0.]\n",
      "  [10.  1.  1.  1.  1.  1.  1.  1.  1.  1.  1.  1.  1.  1.  1.  1.  1.\n",
      "    1.  1.  1.  1.  1.  0.]\n",
      "  [10.  1.  1.  1.  1.  1.  1.  1.  1.  1.  1.  1.  1.  1.  1.  1.  1.\n",
      "    1.  1.  1.  1.  1.  0.]\n",
      "  [10.  1.  1.  1.  1.  1.  1.  1.  1.  1.  1.  1.  1.  1.  1.  1.  1.\n",
      "    1.  1.  1.  1.  1.  0.]\n",
      "  [10.  1.  1.  1.  1.  1.  1.  1.  1.  1.  1.  1.  1.  1.  1.  1.  1.\n",
      "    1.  1.  1.  1.  1.  0.]\n",
      "  [10.  1.  1.  1.  1.  1.  1.  1.  1.  1.  1.  1.  1.  1.  1.  1.  1.\n",
      "    1.  1.  1.  1.  1.  0.]\n",
      "  [10.  1.  1.  1.  1.  1.  1.  1.  1.  1.  1.  1.  1.  1.  1.  1.  1.\n",
      "    1.  1.  1.  1.  1.  0.]\n",
      "  [10.  1.  1.  1.  1.  1.  1.  1.  1.  1.  1.  1.  1.  1.  1.  1.  1.\n",
      "    1.  1.  1.  1.  1.  0.]]]\n"
     ]
    }
   ],
   "source": [
    "#create strt as array of floats = 1\n",
    "strt = np.ones((nlay, nrow, ncol), dtype=np.float32)\n",
    "#set left side head to 10 m\n",
    "strt[:, :, 0] = 10.\n",
    "#set right side head to 0 m\n",
    "strt[:, :, -1] = 0.\n",
    "\n",
    "print(\"starting head values: \\n\", strt)"
   ]
  },
  {
   "cell_type": "markdown",
   "metadata": {
    "colab_type": "text",
    "id": "-i7QdIlz-tru"
   },
   "source": [
    "### Create BAS object\n",
    "\n",
    "We now use <strong>strt</strong> and <strong>IBOUND</strong> to make the 'bas' flopy object which will later be used to create the MODFLOW BAS package."
   ]
  },
  {
   "cell_type": "code",
   "execution_count": 12,
   "metadata": {
    "colab": {},
    "colab_type": "code",
    "id": "cgqQ_XDm-trw"
   },
   "outputs": [],
   "source": [
    "#create flopy bas object\n",
    "bas = flopy.modflow.ModflowBas(m, ibound=ibound, strt=strt)"
   ]
  },
  {
   "cell_type": "markdown",
   "metadata": {
    "colab_type": "text",
    "id": "Cv4uiIrE-tr3"
   },
   "source": [
    "If you wish to visualize the ibound variable assigned to this bas package, flopy ModelMap may be also used to display ibound. "
   ]
  },
  {
   "cell_type": "code",
   "execution_count": 13,
   "metadata": {
    "colab": {
     "base_uri": "https://localhost:8080/",
     "height": 301
    },
    "colab_type": "code",
    "id": "Q8I20pkr-tr4",
    "outputId": "09d0d93d-95b3-4694-c795-8ae73c91f3f5"
   },
   "outputs": [
    {
     "data": {
      "image/png": "[encoded data removed]",
      "text/plain": [
       "<Figure size 432x288 with 1 Axes>"
      ]
     },
     "metadata": {
      "needs_background": "light"
     },
     "output_type": "display_data"
    }
   ],
   "source": [
    "#plot grid and ibound\n",
    "modelmap = flopy.plot.PlotMapView(model=m, layer=0)\n",
    "grid = modelmap.plot_grid()\n",
    "ib = modelmap.plot_ibound()\n",
    "#add labels and legend\n",
    "plt.xlabel('Lx (m)',fontsize = 14)\n",
    "plt.ylabel('Ly (m)',fontsize = 14)\n",
    "plt.title('Ibound', fontsize = 15, fontweight = 'bold')\n",
    "plt.legend(handles=[mp.patches.Patch(color='blue',label='Const. Head',ec='black'),\n",
    "                   mp.patches.Patch(color='white',label='Active Cell',ec='black'),\n",
    "                   mp.patches.Patch(color='black',label='Inactive Cell',ec='black')],\n",
    "                   bbox_to_anchor=(1.5,1.0))\n",
    "plt.show(modelmap)"
   ]
  },
  {
   "cell_type": "markdown",
   "metadata": {
    "colab_type": "text",
    "id": "SypW_E9C-tr-"
   },
   "source": [
    " <a name=\"IV\"></a> \n",
    "## IV. MODFLOW LPF package"
   ]
  },
  {
   "cell_type": "markdown",
   "metadata": {
    "colab_type": "text",
    "id": "xkDrxDEm-tsA"
   },
   "source": [
    "The LPF package specifies Layer Properties associated with the flow in each cell. It holds information regarding horizontal and vertical hydraulic conductivity, layer confinement properties (confined/unconfined), specific storage, and specific yield among other flags for the model run for  which we will use flopy's default settings.\n",
    "\n",
    "### Define Hydraulic Conductivity\n",
    "\n",
    "Here we define \"hk\" as a variable for horizontal hydraulic conductivity of 1 m/d that will be the same in the x and y directions, and \"vka\" as a variable for vertical conductivity of 1 m/d. hk and vka are arrays of floats of form (nlay, nrow, ncol) with conductivity values for each cell. You may also a ratio of anisotropy in the y direction for the flopy LPF function, if hk should be anisotropic in the xy plane. http://modflowpy.github.io/flopydoc/mflpf.html has details regarding these options.\n"
   ]
  },
  {
   "cell_type": "code",
   "execution_count": 14,
   "metadata": {
    "colab": {
     "base_uri": "https://localhost:8080/",
     "height": 391
    },
    "colab_type": "code",
    "id": "nRqM4Ftm-tsB",
    "outputId": "2ae4faee-7e93-4744-d5b7-c53b547578e0"
   },
   "outputs": [
    {
     "name": "stdout",
     "output_type": "stream",
     "text": [
      "horizontal k values: \n",
      " [[[1. 1. 1. 1. 1. 1. 1. 1. 1. 1. 1. 1. 1. 1. 1. 1. 1. 1. 1. 1. 1. 1. 1.]\n",
      "  [1. 1. 1. 1. 1. 1. 1. 1. 1. 1. 1. 1. 1. 1. 1. 1. 1. 1. 1. 1. 1. 1. 1.]\n",
      "  [1. 1. 1. 1. 1. 1. 1. 1. 1. 1. 1. 1. 1. 1. 1. 1. 1. 1. 1. 1. 1. 1. 1.]\n",
      "  [1. 1. 1. 1. 1. 1. 1. 1. 1. 1. 1. 1. 1. 1. 1. 1. 1. 1. 1. 1. 1. 1. 1.]\n",
      "  [1. 1. 1. 1. 1. 1. 1. 1. 1. 1. 1. 1. 1. 1. 1. 1. 1. 1. 1. 1. 1. 1. 1.]\n",
      "  [1. 1. 1. 1. 1. 1. 1. 1. 1. 1. 1. 1. 1. 1. 1. 1. 1. 1. 1. 1. 1. 1. 1.]\n",
      "  [1. 1. 1. 1. 1. 1. 1. 1. 1. 1. 1. 1. 1. 1. 1. 1. 1. 1. 1. 1. 1. 1. 1.]\n",
      "  [1. 1. 1. 1. 1. 1. 1. 1. 1. 1. 1. 1. 1. 1. 1. 1. 1. 1. 1. 1. 1. 1. 1.]\n",
      "  [1. 1. 1. 1. 1. 1. 1. 1. 1. 1. 1. 1. 1. 1. 1. 1. 1. 1. 1. 1. 1. 1. 1.]\n",
      "  [1. 1. 1. 1. 1. 1. 1. 1. 1. 1. 1. 1. 1. 1. 1. 1. 1. 1. 1. 1. 1. 1. 1.]\n",
      "  [1. 1. 1. 1. 1. 1. 1. 1. 1. 1. 1. 1. 1. 1. 1. 1. 1. 1. 1. 1. 1. 1. 1.]\n",
      "  [1. 1. 1. 1. 1. 1. 1. 1. 1. 1. 1. 1. 1. 1. 1. 1. 1. 1. 1. 1. 1. 1. 1.]\n",
      "  [1. 1. 1. 1. 1. 1. 1. 1. 1. 1. 1. 1. 1. 1. 1. 1. 1. 1. 1. 1. 1. 1. 1.]\n",
      "  [1. 1. 1. 1. 1. 1. 1. 1. 1. 1. 1. 1. 1. 1. 1. 1. 1. 1. 1. 1. 1. 1. 1.]\n",
      "  [1. 1. 1. 1. 1. 1. 1. 1. 1. 1. 1. 1. 1. 1. 1. 1. 1. 1. 1. 1. 1. 1. 1.]]] \n",
      " vertical k values: \n",
      " [[[1. 1. 1. 1. 1. 1. 1. 1. 1. 1. 1. 1. 1. 1. 1. 1. 1. 1. 1. 1. 1. 1. 1.]\n",
      "  [1. 1. 1. 1. 1. 1. 1. 1. 1. 1. 1. 1. 1. 1. 1. 1. 1. 1. 1. 1. 1. 1. 1.]\n",
      "  [1. 1. 1. 1. 1. 1. 1. 1. 1. 1. 1. 1. 1. 1. 1. 1. 1. 1. 1. 1. 1. 1. 1.]\n",
      "  [1. 1. 1. 1. 1. 1. 1. 1. 1. 1. 1. 1. 1. 1. 1. 1. 1. 1. 1. 1. 1. 1. 1.]\n",
      "  [1. 1. 1. 1. 1. 1. 1. 1. 1. 1. 1. 1. 1. 1. 1. 1. 1. 1. 1. 1. 1. 1. 1.]\n",
      "  [1. 1. 1. 1. 1. 1. 1. 1. 1. 1. 1. 1. 1. 1. 1. 1. 1. 1. 1. 1. 1. 1. 1.]\n",
      "  [1. 1. 1. 1. 1. 1. 1. 1. 1. 1. 1. 1. 1. 1. 1. 1. 1. 1. 1. 1. 1. 1. 1.]\n",
      "  [1. 1. 1. 1. 1. 1. 1. 1. 1. 1. 1. 1. 1. 1. 1. 1. 1. 1. 1. 1. 1. 1. 1.]\n",
      "  [1. 1. 1. 1. 1. 1. 1. 1. 1. 1. 1. 1. 1. 1. 1. 1. 1. 1. 1. 1. 1. 1. 1.]\n",
      "  [1. 1. 1. 1. 1. 1. 1. 1. 1. 1. 1. 1. 1. 1. 1. 1. 1. 1. 1. 1. 1. 1. 1.]\n",
      "  [1. 1. 1. 1. 1. 1. 1. 1. 1. 1. 1. 1. 1. 1. 1. 1. 1. 1. 1. 1. 1. 1. 1.]\n",
      "  [1. 1. 1. 1. 1. 1. 1. 1. 1. 1. 1. 1. 1. 1. 1. 1. 1. 1. 1. 1. 1. 1. 1.]\n",
      "  [1. 1. 1. 1. 1. 1. 1. 1. 1. 1. 1. 1. 1. 1. 1. 1. 1. 1. 1. 1. 1. 1. 1.]\n",
      "  [1. 1. 1. 1. 1. 1. 1. 1. 1. 1. 1. 1. 1. 1. 1. 1. 1. 1. 1. 1. 1. 1. 1.]\n",
      "  [1. 1. 1. 1. 1. 1. 1. 1. 1. 1. 1. 1. 1. 1. 1. 1. 1. 1. 1. 1. 1. 1. 1.]]]\n"
     ]
    }
   ],
   "source": [
    "#define horizontal hydraulic conductivity\n",
    "hk = np.ones((nlay,nrow,ncol), dtype=np.float32)\n",
    "vk = np.ones((nlay,nrow,ncol), dtype=np.float32)\n",
    "\n",
    "print(\"horizontal k values: \\n\", hk,\n",
    "     \"\\n vertical k values: \\n\", vk)"
   ]
  },
  {
   "cell_type": "markdown",
   "metadata": {
    "colab_type": "text",
    "id": "t9eqiajw-tsG"
   },
   "source": [
    "### Define Specific Storage\n",
    "\n",
    "Specific storage is defined in a similar format to hydraulic conductivity with a value of $1 x 10^{-5} m^{-1}$ for each cell."
   ]
  },
  {
   "cell_type": "code",
   "execution_count": 15,
   "metadata": {
    "colab": {
     "base_uri": "https://localhost:8080/",
     "height": 204
    },
    "colab_type": "code",
    "id": "AaTXILZA-tsI",
    "outputId": "07473e24-e4e7-4a39-beae-8f70488af668"
   },
   "outputs": [
    {
     "name": "stdout",
     "output_type": "stream",
     "text": [
      "specific storage values: \n",
      " [[[1.e-05 1.e-05 1.e-05 1.e-05 1.e-05 1.e-05 1.e-05 1.e-05 1.e-05 1.e-05\n",
      "   1.e-05 1.e-05 1.e-05 1.e-05 1.e-05 1.e-05 1.e-05 1.e-05 1.e-05 1.e-05\n",
      "   1.e-05 1.e-05 1.e-05]\n",
      "  [1.e-05 1.e-05 1.e-05 1.e-05 1.e-05 1.e-05 1.e-05 1.e-05 1.e-05 1.e-05\n",
      "   1.e-05 1.e-05 1.e-05 1.e-05 1.e-05 1.e-05 1.e-05 1.e-05 1.e-05 1.e-05\n",
      "   1.e-05 1.e-05 1.e-05]\n",
      "  [1.e-05 1.e-05 1.e-05 1.e-05 1.e-05 1.e-05 1.e-05 1.e-05 1.e-05 1.e-05\n",
      "   1.e-05 1.e-05 1.e-05 1.e-05 1.e-05 1.e-05 1.e-05 1.e-05 1.e-05 1.e-05\n",
      "   1.e-05 1.e-05 1.e-05]\n",
      "  [1.e-05 1.e-05 1.e-05 1.e-05 1.e-05 1.e-05 1.e-05 1.e-05 1.e-05 1.e-05\n",
      "   1.e-05 1.e-05 1.e-05 1.e-05 1.e-05 1.e-05 1.e-05 1.e-05 1.e-05 1.e-05\n",
      "   1.e-05 1.e-05 1.e-05]\n",
      "  [1.e-05 1.e-05 1.e-05 1.e-05 1.e-05 1.e-05 1.e-05 1.e-05 1.e-05 1.e-05\n",
      "   1.e-05 1.e-05 1.e-05 1.e-05 1.e-05 1.e-05 1.e-05 1.e-05 1.e-05 1.e-05\n",
      "   1.e-05 1.e-05 1.e-05]\n",
      "  [1.e-05 1.e-05 1.e-05 1.e-05 1.e-05 1.e-05 1.e-05 1.e-05 1.e-05 1.e-05\n",
      "   1.e-05 1.e-05 1.e-05 1.e-05 1.e-05 1.e-05 1.e-05 1.e-05 1.e-05 1.e-05\n",
      "   1.e-05 1.e-05 1.e-05]\n",
      "  [1.e-05 1.e-05 1.e-05 1.e-05 1.e-05 1.e-05 1.e-05 1.e-05 1.e-05 1.e-05\n",
      "   1.e-05 1.e-05 1.e-05 1.e-05 1.e-05 1.e-05 1.e-05 1.e-05 1.e-05 1.e-05\n",
      "   1.e-05 1.e-05 1.e-05]\n",
      "  [1.e-05 1.e-05 1.e-05 1.e-05 1.e-05 1.e-05 1.e-05 1.e-05 1.e-05 1.e-05\n",
      "   1.e-05 1.e-05 1.e-05 1.e-05 1.e-05 1.e-05 1.e-05 1.e-05 1.e-05 1.e-05\n",
      "   1.e-05 1.e-05 1.e-05]\n",
      "  [1.e-05 1.e-05 1.e-05 1.e-05 1.e-05 1.e-05 1.e-05 1.e-05 1.e-05 1.e-05\n",
      "   1.e-05 1.e-05 1.e-05 1.e-05 1.e-05 1.e-05 1.e-05 1.e-05 1.e-05 1.e-05\n",
      "   1.e-05 1.e-05 1.e-05]\n",
      "  [1.e-05 1.e-05 1.e-05 1.e-05 1.e-05 1.e-05 1.e-05 1.e-05 1.e-05 1.e-05\n",
      "   1.e-05 1.e-05 1.e-05 1.e-05 1.e-05 1.e-05 1.e-05 1.e-05 1.e-05 1.e-05\n",
      "   1.e-05 1.e-05 1.e-05]\n",
      "  [1.e-05 1.e-05 1.e-05 1.e-05 1.e-05 1.e-05 1.e-05 1.e-05 1.e-05 1.e-05\n",
      "   1.e-05 1.e-05 1.e-05 1.e-05 1.e-05 1.e-05 1.e-05 1.e-05 1.e-05 1.e-05\n",
      "   1.e-05 1.e-05 1.e-05]\n",
      "  [1.e-05 1.e-05 1.e-05 1.e-05 1.e-05 1.e-05 1.e-05 1.e-05 1.e-05 1.e-05\n",
      "   1.e-05 1.e-05 1.e-05 1.e-05 1.e-05 1.e-05 1.e-05 1.e-05 1.e-05 1.e-05\n",
      "   1.e-05 1.e-05 1.e-05]\n",
      "  [1.e-05 1.e-05 1.e-05 1.e-05 1.e-05 1.e-05 1.e-05 1.e-05 1.e-05 1.e-05\n",
      "   1.e-05 1.e-05 1.e-05 1.e-05 1.e-05 1.e-05 1.e-05 1.e-05 1.e-05 1.e-05\n",
      "   1.e-05 1.e-05 1.e-05]\n",
      "  [1.e-05 1.e-05 1.e-05 1.e-05 1.e-05 1.e-05 1.e-05 1.e-05 1.e-05 1.e-05\n",
      "   1.e-05 1.e-05 1.e-05 1.e-05 1.e-05 1.e-05 1.e-05 1.e-05 1.e-05 1.e-05\n",
      "   1.e-05 1.e-05 1.e-05]\n",
      "  [1.e-05 1.e-05 1.e-05 1.e-05 1.e-05 1.e-05 1.e-05 1.e-05 1.e-05 1.e-05\n",
      "   1.e-05 1.e-05 1.e-05 1.e-05 1.e-05 1.e-05 1.e-05 1.e-05 1.e-05 1.e-05\n",
      "   1.e-05 1.e-05 1.e-05]]]\n"
     ]
    }
   ],
   "source": [
    "#define specific storage\n",
    "ss = np.ones((nlay,nrow,ncol), dtype=np.float)\n",
    "ss[:,:,:] = 1e-5\n",
    "\n",
    "print(\"specific storage values: \\n\", ss)"
   ]
  },
  {
   "cell_type": "markdown",
   "metadata": {
    "colab_type": "text",
    "id": "eHzb7TBp-tsQ"
   },
   "source": [
    "### Define Aquifer Confinement Properties\n",
    "\n",
    "Layers may be specified in flopy with variable <strong> laytyp </strong>, an array of (nlay) integer flags to say whether a model is:\n",
    "\n",
    "- <strong> =0 Confined:</strong>  Aquifer layers will be treated as confined\n",
    "- <strong> >0 Convertible:</strong> Aquifer layers will be treated as confined if the water level is above the top of the aquifer cell and unconfined if the water level is below the top of the aquifer cell.\n",
    "\n",
    "This single-layer model will be treated as confined."
   ]
  },
  {
   "cell_type": "code",
   "execution_count": 16,
   "metadata": {
    "colab": {
     "base_uri": "https://localhost:8080/",
     "height": 51
    },
    "colab_type": "code",
    "id": "OWc1ue9W-tsQ",
    "outputId": "25c1863a-e5c2-42ba-8b8e-ce493a701cbc"
   },
   "outputs": [
    {
     "name": "stdout",
     "output_type": "stream",
     "text": [
      "layer type values: \n",
      " [0]\n"
     ]
    }
   ],
   "source": [
    "#define layer type as confined\n",
    "laytyp = np.zeros((nlay,), dtype=np.int32)\n",
    "\n",
    "print(\"layer type values: \\n\", laytyp)"
   ]
  },
  {
   "cell_type": "markdown",
   "metadata": {
    "colab_type": "text",
    "id": "AUAWWJh3-tsT"
   },
   "source": [
    "### Define LPF object\n",
    "We now use <strong>hk</strong>, <strong>vk</strong>,  <strong>ss</strong>, and <strong>laytyp</strong> to make the 'lpf' flopy object which will be used to create the MODFLOW LPF package. <strong>ipakcb</strong> is a flag to say whether we will save cell by cell buget data (flows etc) (ipakcb>0 = save data). (<strong>Note:</strong> Flopy claims that budget data saves by using the ipakcb default settings, but it seems that ipakcb must be explicitly specified in order to be saved.)"
   ]
  },
  {
   "cell_type": "code",
   "execution_count": 17,
   "metadata": {
    "colab": {},
    "colab_type": "code",
    "id": "wTt_as_r-tsT"
   },
   "outputs": [],
   "source": [
    "lpf = flopy.modflow.ModflowLpf(model=m, hk=hk, vka=vk, ss=ss, laytyp=laytyp, ipakcb=1)"
   ]
  },
  {
   "cell_type": "markdown",
   "metadata": {
    "colab_type": "text",
    "id": "lN9NnaJp-tsW"
   },
   "source": [
    " <a name=\"V\"></a> \n",
    "## V. MODFLOW OC Package\n",
    "\n",
    "The OC package tells MODFLOW which attributes of the head and flow solutions should be printed and saved for each stress period during the model run. \n",
    "\n",
    "### Create Output Control Stress Period Data \n",
    "To designate what data to save, we create variable <strong> spd </strong> as a  dictionary of stress period data to be used as an argument for the flopy oc function. This takes the form: \n",
    "\n",
    "spd = {(stress period, time step): ['PRINT HEAD', 'PRINT BUDGET', 'SAVE HEAD', 'SAVE DRAWDOWN', 'SAVE IBOUND', 'SAVE BUDGET']} \n",
    "\n",
    "<strong> Note </strong> that the list of strings may be modified if you wish to only save some of the data. Here we will choose to record and save budget and head values for our steady-state model with a single stress period/time step as we specified in the 'dis' object."
   ]
  },
  {
   "cell_type": "code",
   "execution_count": 18,
   "metadata": {
    "colab": {
     "base_uri": "https://localhost:8080/",
     "height": 51
    },
    "colab_type": "code",
    "id": "ZhS76ZhR-tsW",
    "outputId": "d9d4519b-16d7-4d21-ca91-1985e547c3b4"
   },
   "outputs": [
    {
     "name": "stdout",
     "output_type": "stream",
     "text": [
      "oc stress period data: \n",
      " {(0, 0): ['print head', 'print budget', 'save head', 'save budget']}\n"
     ]
    }
   ],
   "source": [
    "#create oc stress period data. \n",
    "spd = {(0, 0): ['print head', 'print budget', 'save head', 'save budget']}\n",
    "\n",
    "print(\"oc stress period data: \\n\", spd)"
   ]
  },
  {
   "cell_type": "markdown",
   "metadata": {
    "colab_type": "text",
    "id": "csjXWIGa-tsY"
   },
   "source": [
    "### Define OC object\n",
    "We will use <strong>spd</strong> to make the 'oc' flopy object which will later be used to create the MODFLOW OC package."
   ]
  },
  {
   "cell_type": "code",
   "execution_count": 19,
   "metadata": {
    "colab": {},
    "colab_type": "code",
    "id": "bXAWNdCl-tsZ"
   },
   "outputs": [],
   "source": [
    "oc = flopy.modflow.ModflowOc(model=m, stress_period_data=spd, compact=True)"
   ]
  },
  {
   "cell_type": "markdown",
   "metadata": {
    "colab_type": "text",
    "collapsed": true,
    "id": "AkSlPEE0-tsc"
   },
   "source": [
    " <a name=\"VI\"></a> \n",
    "## VI. MODFLOW PCG Package\n",
    "\n",
    "Attaching the PCG Package to a MODFLOW model, tells MODFLOW to use the Preconditioned Conjugate Gradient Package to solve the finite difference equation. Seeing as this model is steady-state in a very simple domain, the PCG package should have little trouble solving the parabolic groundwater flow equation with its default settings. However, MODFLOW has numerous other solver packages (Newton-Raphson (NWT), Direct Solver (DE4), Strongly Implicit Procedure (SIP), etc) that may be applicable to other models. Additionally, you may want to tweak the solving criterion depending on your model. If you are interested in the nitty gritty of these methods, the MODFLOW-2005 manual is a good resource: https://pubs.usgs.gov/tm/2005/tm6A16/PDF/TM6A16.pdf. \n",
    "\n",
    "Additionally, MODFLOW online describes these solvers: https://water.usgs.gov/ogw/modflow/MODFLOW-2005-Guide/index.html?oc.htm\n",
    "\n",
    "And Flopy documents its communication with the PCG MODFLOW package:\n",
    "http://modflowpy.github.io/flopydoc/mfpcg.html\n"
   ]
  },
  {
   "cell_type": "markdown",
   "metadata": {
    "colab_type": "text",
    "id": "AhjNM62Q-tsc"
   },
   "source": [
    "### Define PCG Object\n",
    "\n",
    "Here we will create the flopy pcg object, with its default solver settings, which will be used to create the MODFLOW PCG package."
   ]
  },
  {
   "cell_type": "code",
   "execution_count": 20,
   "metadata": {
    "colab": {},
    "colab_type": "code",
    "id": "MiM8z4kP-tsd"
   },
   "outputs": [],
   "source": [
    "pcg = flopy.modflow.ModflowPcg(model=m)"
   ]
  },
  {
   "cell_type": "markdown",
   "metadata": {
    "colab_type": "text",
    "id": "Bziadt8U-tsf"
   },
   "source": [
    " <a name=\"VII\"></a> \n",
    "## VII. Write MODFLOW Input Files\n",
    "\n",
    "Now that we have created all the flopy objects for the packages we wish to attach to our model (dis, bas, lpf, oc, and pcg), we can use flopy to write the MODFLOW input files for our MODFLOW executable to read. This is done simply with:"
   ]
  },
  {
   "cell_type": "code",
   "execution_count": 21,
   "metadata": {
    "colab": {},
    "colab_type": "code",
    "id": "nRNxjocD-tsg"
   },
   "outputs": [],
   "source": [
    "#write MODFLOW input files\n",
    "m.write_input()"
   ]
  },
  {
   "cell_type": "markdown",
   "metadata": {
    "colab_type": "text",
    "id": "0xUnV9K_-tsi"
   },
   "source": [
    "Flopy should have created 6 new files in your working directory that look something like:\n",
    "\n",
    "<img src=\"https://i.imgur.com/AjODHeO.png\" title=\"modflow_files\" /></a>\n",
    "\n",
    "The file to pay attention to is the \"my_model.nam\" file. This file governs which packages will be attached to your MODFLOW file. Inside the name file it will list all the packages to be attached to your model as well as specify that BINARY DATA files that it will write as an output. (my_model.hds, my_model.cbc)\n",
    "\n",
    "<img src=\"https://i.imgur.com/8KOHV9T.png\" title=\"nam_file\" /></a>\n",
    "\n",
    "Another file to pay attention to, post run, is the LIST file. This will have additional information on how the packages are attached to your model as well as MODFLOW mass-balance budgets during the model run. "
   ]
  },
  {
   "cell_type": "markdown",
   "metadata": {
    "colab_type": "text",
    "id": "Mdj15LLe-tsj"
   },
   "source": [
    " <a name=\"VIII\"></a> \n",
    "## VIII. Run MODFLOW Model\n",
    "\n",
    "We can now run the MODFLOW model with the packages specified in the .nam file using the executable specified in the definition of our flopy model 'm':"
   ]
  },
  {
   "cell_type": "code",
   "execution_count": 22,
   "metadata": {
    "colab": {
     "base_uri": "https://localhost:8080/",
     "height": 341
    },
    "colab_type": "code",
    "id": "46RApn-U-tsk",
    "outputId": "76cea2e7-bc1f-48a6-8f27-038d56aaac4b"
   },
   "outputs": [
    {
     "name": "stdout",
     "output_type": "stream",
     "text": [
      "FloPy is using the following  executable to run the model: .\\mf2005.EXE\n",
      "\n",
      "                                  MODFLOW-2005     \n",
      "    U.S. GEOLOGICAL SURVEY MODULAR FINITE-DIFFERENCE GROUND-WATER FLOW MODEL\n",
      "                             Version 1.12.00 2/3/2017                        \n",
      "\n",
      " Using NAME file: my_model.nam \n",
      " Run start date and time (yyyy/mm/dd hh:mm:ss): 2020/03/24 21:30:19\n",
      "\n",
      " Solving:  Stress period:     1    Time step:     1    Ground-Water Flow Eqn.\n",
      " Run end date and time (yyyy/mm/dd hh:mm:ss): 2020/03/24 21:30:19\n",
      " Elapsed run time:  0.000 Seconds\n",
      "\n",
      "  Normal termination of simulation\n"
     ]
    }
   ],
   "source": [
    "# Run the model\n",
    "success, mfoutput = m.run_model(pause=False, report=True)\n",
    "if not success:\n",
    "    raise Exception('MODFLOW did not terminate normally.')"
   ]
  },
  {
   "cell_type": "markdown",
   "metadata": {
    "colab_type": "text",
    "id": "w9Tz7FRB-tsn"
   },
   "source": [
    "If the run was successful, you should have seen a window reporting the run time data. "
   ]
  },
  {
   "cell_type": "markdown",
   "metadata": {
    "colab_type": "text",
    "id": "fycMgCk7-tsn"
   },
   "source": [
    " <a name=\"IX\"></a> \n",
    "## IX. Read Head/Flow Data\n",
    "\n",
    "We will now make use of flopy's binary file reader and plotting capabilities to read and display the model output."
   ]
  },
  {
   "cell_type": "markdown",
   "metadata": {
    "colab_type": "text",
    "id": "3BgOzzHT-tso"
   },
   "source": [
    "### Read Head Data\n",
    "\n",
    "Head data from the my_model.hds file will be stored as a flopy head object."
   ]
  },
  {
   "cell_type": "code",
   "execution_count": 23,
   "metadata": {
    "colab": {},
    "colab_type": "code",
    "id": "c6Xhze2B-tsp"
   },
   "outputs": [
    {
     "name": "stdout",
     "output_type": "stream",
     "text": [
      "flopy head object: \n",
      " <flopy.utils.binaryfile.HeadFile object at 0x000002D401C09C08>\n"
     ]
    }
   ],
   "source": [
    "#extract binary data from head file as flopy head object\n",
    "headobj = flopy.utils.binaryfile.HeadFile(modelname+'.hds')\n",
    "\n",
    "print(\"flopy head object: \\n\", headobj)"
   ]
  },
  {
   "cell_type": "markdown",
   "metadata": {
    "colab_type": "text",
    "id": "FGcXE0-K-tss"
   },
   "source": [
    "This head object has different attributes that can be extracted from it such as the times used in the model run, head data, databytes and more. For information on how to access these functions see: http://modflowpy.github.io/flopydoc/binaryfile.html\n",
    "\n",
    "For this model, we will extract the head data after our single stress period (totim=1.0)."
   ]
  },
  {
   "cell_type": "code",
   "execution_count": 24,
   "metadata": {
    "colab": {},
    "colab_type": "code",
    "id": "Mm_sQnvB-tss"
   },
   "outputs": [],
   "source": [
    "#extract head data from head object\n",
    "head = headobj.get_data(totim=1.0)"
   ]
  },
  {
   "cell_type": "code",
   "execution_count": 25,
   "metadata": {
    "colab": {},
    "colab_type": "code",
    "id": "XWj475Qg-tsu"
   },
   "outputs": [
    {
     "data": {
      "text/plain": [
       "array([[[10.        ,  9.545455  ,  9.090909  ,  8.636364  ,\n",
       "          8.181818  ,  7.7272725 ,  7.2727275 ,  6.818182  ,\n",
       "          6.3636365 ,  5.909091  ,  5.4545455 ,  5.        ,\n",
       "          4.5454545 ,  4.090909  ,  3.6363637 ,  3.1818182 ,\n",
       "          2.7272727 ,  2.2727273 ,  1.8181819 ,  1.3636364 ,\n",
       "          0.90909094,  0.4545455 ,  0.        ],\n",
       "        [10.        ,  9.545455  ,  9.090909  ,  8.636364  ,\n",
       "          8.181818  ,  7.7272725 ,  7.2727275 ,  6.818182  ,\n",
       "          6.3636365 ,  5.909091  ,  5.4545455 ,  5.        ,\n",
       "          4.5454545 ,  4.090909  ,  3.6363637 ,  3.1818182 ,\n",
       "          2.7272727 ,  2.2727273 ,  1.8181819 ,  1.3636364 ,\n",
       "          0.90909094,  0.45454547,  0.        ],\n",
       "        [10.        ,  9.545455  ,  9.090909  ,  8.636364  ,\n",
       "          8.181818  ,  7.7272725 ,  7.2727275 ,  6.818182  ,\n",
       "          6.3636365 ,  5.909091  ,  5.4545455 ,  5.        ,\n",
       "          4.5454545 ,  4.090909  ,  3.6363637 ,  3.1818182 ,\n",
       "          2.7272727 ,  2.2727273 ,  1.8181819 ,  1.3636364 ,\n",
       "          0.90909094,  0.45454547,  0.        ],\n",
       "        [10.        ,  9.545455  ,  9.090909  ,  8.636364  ,\n",
       "          8.181818  ,  7.7272725 ,  7.2727275 ,  6.818182  ,\n",
       "          6.3636365 ,  5.909091  ,  5.4545455 ,  5.        ,\n",
       "          4.5454545 ,  4.090909  ,  3.6363637 ,  3.1818182 ,\n",
       "          2.7272727 ,  2.2727273 ,  1.8181819 ,  1.3636364 ,\n",
       "          0.90909094,  0.45454547,  0.        ],\n",
       "        [10.        ,  9.545455  ,  9.090909  ,  8.636364  ,\n",
       "          8.181818  ,  7.7272725 ,  7.2727275 ,  6.818182  ,\n",
       "          6.3636365 ,  5.909091  ,  5.4545455 ,  5.        ,\n",
       "          4.5454545 ,  4.090909  ,  3.6363637 ,  3.1818182 ,\n",
       "          2.7272727 ,  2.2727273 ,  1.8181819 ,  1.3636364 ,\n",
       "          0.9090909 ,  0.45454544,  0.        ],\n",
       "        [10.        ,  9.545455  ,  9.090909  ,  8.636364  ,\n",
       "          8.181818  ,  7.7272725 ,  7.2727275 ,  6.818182  ,\n",
       "          6.3636365 ,  5.909091  ,  5.4545455 ,  5.        ,\n",
       "          4.5454545 ,  4.090909  ,  3.6363635 ,  3.1818182 ,\n",
       "          2.7272727 ,  2.2727273 ,  1.8181819 ,  1.3636364 ,\n",
       "          0.9090909 ,  0.45454544,  0.        ],\n",
       "        [10.        ,  9.545455  ,  9.090909  ,  8.636364  ,\n",
       "          8.181818  ,  7.7272725 ,  7.2727275 ,  6.818182  ,\n",
       "          6.3636365 ,  5.909091  ,  5.4545455 ,  5.        ,\n",
       "          4.5454545 ,  4.090909  ,  3.6363637 ,  3.1818182 ,\n",
       "          2.7272727 ,  2.2727273 ,  1.8181819 ,  1.3636364 ,\n",
       "          0.9090909 ,  0.45454547,  0.        ],\n",
       "        [10.        ,  9.545455  ,  9.090909  ,  8.636364  ,\n",
       "          8.181818  ,  7.727273  ,  7.2727275 ,  6.818182  ,\n",
       "          6.3636365 ,  5.909091  ,  5.4545455 ,  5.        ,\n",
       "          4.5454545 ,  4.090909  ,  3.6363635 ,  3.1818182 ,\n",
       "          2.7272727 ,  2.2727273 ,  1.8181819 ,  1.3636364 ,\n",
       "          0.9090909 ,  0.45454547,  0.        ],\n",
       "        [10.        ,  9.545455  ,  9.090909  ,  8.636364  ,\n",
       "          8.181818  ,  7.727273  ,  7.2727275 ,  6.818182  ,\n",
       "          6.3636365 ,  5.909091  ,  5.4545455 ,  5.        ,\n",
       "          4.5454545 ,  4.090909  ,  3.6363635 ,  3.1818182 ,\n",
       "          2.7272727 ,  2.2727273 ,  1.8181819 ,  1.3636364 ,\n",
       "          0.9090909 ,  0.45454547,  0.        ],\n",
       "        [10.        ,  9.545455  ,  9.090909  ,  8.636364  ,\n",
       "          8.181818  ,  7.727273  ,  7.2727275 ,  6.818182  ,\n",
       "          6.3636365 ,  5.909091  ,  5.4545455 ,  5.        ,\n",
       "          4.5454545 ,  4.090909  ,  3.6363637 ,  3.1818182 ,\n",
       "          2.7272727 ,  2.2727273 ,  1.8181818 ,  1.3636364 ,\n",
       "          0.9090909 ,  0.45454544,  0.        ],\n",
       "        [10.        ,  9.545455  ,  9.090909  ,  8.636364  ,\n",
       "          8.181818  ,  7.7272725 ,  7.2727275 ,  6.818182  ,\n",
       "          6.3636365 ,  5.909091  ,  5.4545455 ,  5.        ,\n",
       "          4.5454545 ,  4.090909  ,  3.6363637 ,  3.1818182 ,\n",
       "          2.7272727 ,  2.2727273 ,  1.8181818 ,  1.3636364 ,\n",
       "          0.9090909 ,  0.45454544,  0.        ],\n",
       "        [10.        ,  9.545455  ,  9.090909  ,  8.636364  ,\n",
       "          8.181818  ,  7.7272725 ,  7.2727275 ,  6.818182  ,\n",
       "          6.3636365 ,  5.909091  ,  5.4545455 ,  5.        ,\n",
       "          4.5454545 ,  4.090909  ,  3.6363637 ,  3.1818182 ,\n",
       "          2.7272727 ,  2.2727273 ,  1.8181818 ,  1.3636364 ,\n",
       "          0.9090909 ,  0.45454547,  0.        ],\n",
       "        [10.        ,  9.545455  ,  9.090909  ,  8.636364  ,\n",
       "          8.181818  ,  7.7272725 ,  7.2727275 ,  6.818182  ,\n",
       "          6.3636365 ,  5.909091  ,  5.4545455 ,  5.        ,\n",
       "          4.5454545 ,  4.090909  ,  3.6363637 ,  3.1818182 ,\n",
       "          2.7272727 ,  2.2727273 ,  1.8181818 ,  1.3636364 ,\n",
       "          0.90909094,  0.4545455 ,  0.        ],\n",
       "        [10.        ,  9.545455  ,  9.090909  ,  8.636364  ,\n",
       "          8.181818  ,  7.7272725 ,  7.2727275 ,  6.818182  ,\n",
       "          6.3636365 ,  5.909091  ,  5.4545455 ,  5.        ,\n",
       "          4.5454545 ,  4.090909  ,  3.6363637 ,  3.1818182 ,\n",
       "          2.7272727 ,  2.2727273 ,  1.8181819 ,  1.3636364 ,\n",
       "          0.90909094,  0.4545455 ,  0.        ],\n",
       "        [10.        ,  9.545455  ,  9.090909  ,  8.636364  ,\n",
       "          8.181818  ,  7.727273  ,  7.2727275 ,  6.818182  ,\n",
       "          6.3636365 ,  5.909091  ,  5.4545455 ,  5.        ,\n",
       "          4.5454545 ,  4.090909  ,  3.6363637 ,  3.1818182 ,\n",
       "          2.7272727 ,  2.2727273 ,  1.8181819 ,  1.3636364 ,\n",
       "          0.90909094,  0.4545454 ,  0.        ]]], dtype=float32)"
      ]
     },
     "execution_count": 25,
     "metadata": {},
     "output_type": "execute_result"
    }
   ],
   "source": [
    "head"
   ]
  },
  {
   "cell_type": "markdown",
   "metadata": {
    "colab_type": "text",
    "id": "w2kzCLhs-tsw"
   },
   "source": [
    "### Read Flow Data\n",
    "\n",
    "Flopy's binary budget data reader will be used to read in the budget data from my_model.cbc as a flopy budget object. (See: http://modflowpy.github.io/flopydoc/binaryfile.html#flopy.utils.binaryfile.CellBudgetFile for more info)"
   ]
  },
  {
   "cell_type": "code",
   "execution_count": 26,
   "metadata": {
    "colab": {},
    "colab_type": "code",
    "id": "8Iwx6e7i-tsx"
   },
   "outputs": [
    {
     "name": "stdout",
     "output_type": "stream",
     "text": [
      "flopy budget object: \n",
      " <flopy.utils.binaryfile.CellBudgetFile object at 0x000002D402BA0108>\n"
     ]
    }
   ],
   "source": [
    "#extract binary data from budget file as flopy budget object\n",
    "budgobj = flopy.utils.binaryfile.CellBudgetFile(modelname+'.cbc')\n",
    "\n",
    "print(\"flopy budget object: \\n\", budgobj)"
   ]
  },
  {
   "cell_type": "markdown",
   "metadata": {
    "colab_type": "text",
    "id": "uKNDrYb_-tsz"
   },
   "source": [
    "We can now extract the data from this by passing a string in the CellBudgetFile function's \"text\" argument to call which part of the data we want to get. Here we will access the flow data for the right face  and front face of each grid cell and save the data as variables 'frf' and 'fff' which are output as arrays."
   ]
  },
  {
   "cell_type": "code",
   "execution_count": 27,
   "metadata": {
    "colab": {},
    "colab_type": "code",
    "id": "S99JbvlX-ts0"
   },
   "outputs": [
    {
     "name": "stdout",
     "output_type": "stream",
     "text": [
      "Flow through Right Face of Grid Cells m^3/d \n",
      " [array([[[22.727272, 22.72727 , 22.727276, 22.727274, 22.727274,\n",
      "         22.727274, 22.727272, 22.727272, 22.727272, 22.727272,\n",
      "         22.727272, 22.727272, 22.727274, 22.727272, 22.727272,\n",
      "         22.727274, 22.727274, 22.727272, 22.727274, 22.727272,\n",
      "         22.727274, 22.727276,  0.      ],\n",
      "        [22.727274, 22.72727 , 22.727276, 22.727272, 22.727274,\n",
      "         22.727274, 22.727274, 22.727272, 22.727272, 22.727272,\n",
      "         22.727272, 22.727272, 22.727272, 22.727272, 22.727272,\n",
      "         22.727272, 22.727274, 22.727272, 22.727274, 22.727274,\n",
      "         22.727274, 22.727274,  0.      ],\n",
      "        [22.727274, 22.72727 , 22.727276, 22.727272, 22.727274,\n",
      "         22.727274, 22.727274, 22.727274, 22.727274, 22.727272,\n",
      "         22.727272, 22.727272, 22.727272, 22.727272, 22.727272,\n",
      "         22.727272, 22.727274, 22.727274, 22.727274, 22.727274,\n",
      "         22.727274, 22.727274,  0.      ],\n",
      "        [22.727272, 22.72727 , 22.727276, 22.727272, 22.727274,\n",
      "         22.727272, 22.727274, 22.727274, 22.727274, 22.727274,\n",
      "         22.727274, 22.727272, 22.727272, 22.727272, 22.727272,\n",
      "         22.727272, 22.727274, 22.727274, 22.727274, 22.727274,\n",
      "         22.727274, 22.727274,  0.      ],\n",
      "        [22.727274, 22.72727 , 22.727276, 22.727272, 22.727274,\n",
      "         22.727274, 22.727274, 22.727274, 22.727274, 22.727274,\n",
      "         22.727274, 22.727272, 22.727272, 22.727272, 22.727272,\n",
      "         22.727272, 22.727274, 22.727272, 22.727276, 22.727274,\n",
      "         22.727272, 22.727272,  0.      ],\n",
      "        [22.727272, 22.727272, 22.727274, 22.727272, 22.727272,\n",
      "         22.727272, 22.727274, 22.727274, 22.727274, 22.727272,\n",
      "         22.727274, 22.727274, 22.727272, 22.727272, 22.727272,\n",
      "         22.72727 , 22.727272, 22.727274, 22.727274, 22.727274,\n",
      "         22.727272, 22.727272,  0.      ],\n",
      "        [22.727272, 22.727272, 22.727274, 22.727272, 22.727272,\n",
      "         22.727272, 22.727272, 22.727274, 22.727274, 22.727272,\n",
      "         22.727274, 22.727274, 22.727274, 22.727272, 22.727272,\n",
      "         22.727272, 22.727272, 22.727274, 22.727272, 22.727274,\n",
      "         22.727272, 22.727274,  0.      ],\n",
      "        [22.727274, 22.727272, 22.727274, 22.727272, 22.727272,\n",
      "         22.727274, 22.727272, 22.727274, 22.727274, 22.727274,\n",
      "         22.727272, 22.727274, 22.727274, 22.727272, 22.727272,\n",
      "         22.727274, 22.727274, 22.727274, 22.727272, 22.727274,\n",
      "         22.727272, 22.727274,  0.      ],\n",
      "        [22.727274, 22.727274, 22.727272, 22.727272, 22.727272,\n",
      "         22.727274, 22.727274, 22.727272, 22.727274, 22.727274,\n",
      "         22.727274, 22.727272, 22.727274, 22.727274, 22.727272,\n",
      "         22.727272, 22.727274, 22.727272, 22.727272, 22.727274,\n",
      "         22.727272, 22.727274,  0.      ],\n",
      "        [22.727272, 22.727274, 22.727272, 22.727272, 22.727272,\n",
      "         22.727274, 22.727274, 22.727272, 22.727272, 22.727274,\n",
      "         22.727274, 22.727272, 22.727272, 22.727274, 22.727274,\n",
      "         22.727274, 22.727274, 22.727272, 22.727272, 22.727274,\n",
      "         22.727272, 22.727272,  0.      ],\n",
      "        [22.727274, 22.727272, 22.727272, 22.727272, 22.727274,\n",
      "         22.727272, 22.727272, 22.727274, 22.727272, 22.727272,\n",
      "         22.727272, 22.727274, 22.727274, 22.727274, 22.727276,\n",
      "         22.727274, 22.727274, 22.727272, 22.727272, 22.727274,\n",
      "         22.727272, 22.727272,  0.      ],\n",
      "        [22.727274, 22.727272, 22.727272, 22.727274, 22.727272,\n",
      "         22.727274, 22.727272, 22.727272, 22.727272, 22.727272,\n",
      "         22.727272, 22.727274, 22.727274, 22.727274, 22.727274,\n",
      "         22.727274, 22.727274, 22.727272, 22.727272, 22.727272,\n",
      "         22.727272, 22.727274,  0.      ],\n",
      "        [22.727274, 22.727272, 22.727272, 22.727274, 22.727272,\n",
      "         22.727272, 22.727272, 22.727272, 22.727272, 22.727272,\n",
      "         22.727272, 22.727274, 22.727274, 22.727274, 22.727274,\n",
      "         22.727274, 22.727272, 22.727272, 22.727272, 22.727272,\n",
      "         22.727272, 22.727276,  0.      ],\n",
      "        [22.727272, 22.727272, 22.727272, 22.727274, 22.727272,\n",
      "         22.727272, 22.727272, 22.727272, 22.727272, 22.727274,\n",
      "         22.727274, 22.727274, 22.727274, 22.727274, 22.727274,\n",
      "         22.727274, 22.727272, 22.727272, 22.727272, 22.727272,\n",
      "         22.727274, 22.727276,  0.      ],\n",
      "        [22.727272, 22.727274, 22.727272, 22.727272, 22.727272,\n",
      "         22.727272, 22.727272, 22.727272, 22.727274, 22.727274,\n",
      "         22.727274, 22.727274, 22.727274, 22.727274, 22.727272,\n",
      "         22.727272, 22.727272, 22.727272, 22.727274, 22.727276,\n",
      "         22.727276, 22.72727 ,  0.      ]]], dtype=float32)] \n",
      " Flow through Front Face of Grid Cells m^3/d \n",
      " [array([[[ 0.00000000e+00,  1.16794774e-06,  8.89034823e-07,\n",
      "          6.99898465e-07,  4.91908736e-09, -1.77819985e-07,\n",
      "         -9.76044134e-08,  2.05166643e-07,  8.23451444e-07,\n",
      "          1.00534635e-06,  9.67836854e-07,  1.02648153e-06,\n",
      "          8.24543292e-07,  4.11512332e-07,  9.72691012e-08,\n",
      "         -2.82463219e-07, -4.39350600e-07, -5.62299533e-07,\n",
      "         -4.51547947e-07,  1.91664768e-07,  1.29357386e-06,\n",
      "          1.09375003e-06,  0.00000000e+00],\n",
      "        [ 0.00000000e+00, -4.96823645e-07, -3.95888037e-07,\n",
      "         -1.29841112e-07, -4.78226696e-07, -6.53688403e-07,\n",
      "         -6.75368597e-07, -3.11905580e-07,  2.09765588e-07,\n",
      "          5.40924418e-07,  7.52417691e-07,  6.62390335e-07,\n",
      "          3.75794684e-07,  3.20920350e-07,  4.44623709e-07,\n",
      "          1.37568051e-07, -2.48424300e-07,  8.22140134e-09,\n",
      "          3.73012597e-07,  5.19785431e-07, -1.31366022e-07,\n",
      "          6.53152824e-07,  0.00000000e+00],\n",
      "        [ 0.00000000e+00, -1.42135988e-07, -9.55223456e-08,\n",
      "         -2.05715622e-07, -2.66702756e-07, -4.09836559e-07,\n",
      "         -4.91161643e-07, -4.26272720e-07, -1.10805232e-07,\n",
      "          3.30724419e-07,  7.68240568e-07,  1.06834170e-06,\n",
      "          1.11678310e-06,  1.06966297e-06,  1.20567495e-06,\n",
      "          9.27433064e-07,  2.94295575e-07,  3.03673090e-07,\n",
      "          4.35507417e-07, -1.99964816e-07,  9.84285521e-07,\n",
      "          8.09007403e-08,  0.00000000e+00],\n",
      "        [ 0.00000000e+00,  1.26702645e-07,  4.34151474e-07,\n",
      "          1.79128179e-07,  2.69321106e-07,  1.25691457e-07,\n",
      "          1.84163213e-07,  1.44654251e-07,  1.09202290e-07,\n",
      "          7.41169828e-08,  1.19319182e-07,  5.13612406e-07,\n",
      "          6.49999208e-07,  1.19168007e-07, -1.35432089e-07,\n",
      "          3.74262413e-07,  6.96828010e-07,  5.60228386e-07,\n",
      "         -3.54846776e-07,  8.78407945e-07,  7.27666929e-07,\n",
      "          1.51221940e-07,  0.00000000e+00],\n",
      "        [ 0.00000000e+00, -7.51713358e-08,  7.85113457e-07,\n",
      "          3.24177677e-07,  3.33002077e-07, -2.72832867e-08,\n",
      "         -1.11234975e-07, -3.02959450e-07, -3.96491032e-07,\n",
      "         -6.41856559e-07, -1.27500641e-06, -1.20194329e-06,\n",
      "         -1.61420260e-07,  6.76521552e-07,  1.21953190e-06,\n",
      "          1.66033317e-06,  5.81230097e-07, -6.98032920e-07,\n",
      "          1.21451285e-06,  1.05272036e-07,  1.50628154e-07,\n",
      "          2.31181716e-07,  0.00000000e+00],\n",
      "        [ 0.00000000e+00, -8.05784737e-08,  6.38349661e-07,\n",
      "          6.84461412e-08, -1.53464086e-07, -4.28261473e-07,\n",
      "         -4.51903276e-07, -7.97883331e-07, -6.19905222e-07,\n",
      "         -3.02890300e-07, -3.58202186e-07, -5.59815305e-07,\n",
      "         -1.29251276e-08,  5.11941550e-07, -3.92174826e-07,\n",
      "         -6.60741762e-07,  1.18626519e-06,  1.34667516e-06,\n",
      "          1.24178234e-06,  2.02318120e-07, -6.91564281e-08,\n",
      "         -7.33938805e-07,  0.00000000e+00],\n",
      "        [ 0.00000000e+00,  4.40983257e-07,  4.17231149e-07,\n",
      "         -1.17723609e-07, -3.45401759e-07, -3.54210130e-07,\n",
      "         -2.19404495e-08, -2.90026833e-07, -8.93862591e-07,\n",
      "         -3.47187211e-07,  2.24920711e-07, -2.75204513e-07,\n",
      "         -9.05998377e-07, -1.09379130e-07,  5.39269081e-07,\n",
      "         -2.63415188e-07,  5.07987892e-08,  1.24527969e-06,\n",
      "          2.17246793e-07,  1.84048815e-07, -1.24294786e-07,\n",
      "         -3.46563468e-07,  0.00000000e+00],\n",
      "        [ 0.00000000e+00, -1.39082616e-07,  4.50555149e-08,\n",
      "         -2.07573777e-07, -3.12246925e-07, -2.80032879e-07,\n",
      "          1.07325434e-07,  5.08026801e-07, -4.02486791e-07,\n",
      "         -1.01877561e-06, -1.94824736e-07,  8.32287981e-08,\n",
      "         -8.59008310e-07, -1.43987324e-06, -7.62079040e-08,\n",
      "          9.33542481e-07,  5.68695782e-07,  6.62548700e-07,\n",
      "         -1.22386240e-07,  2.42136451e-07,  1.42589327e-08,\n",
      "          3.43572424e-07,  0.00000000e+00],\n",
      "        [ 0.00000000e+00, -2.98189917e-07, -2.80047097e-08,\n",
      "         -5.46327428e-08,  1.71755055e-08,  1.91295072e-07,\n",
      "         -4.06787450e-07,  1.99333570e-07,  6.54716928e-07,\n",
      "         -3.85593921e-07, -1.12038481e-06, -6.64044535e-07,\n",
      "         -4.34924317e-07, -1.14593388e-06, -1.09959069e-06,\n",
      "          3.07813536e-07,  7.87013732e-07,  7.09738686e-07,\n",
      "          2.94277214e-07,  3.62844077e-07,  2.78905333e-07,\n",
      "          8.23947857e-07,  0.00000000e+00],\n",
      "        [ 0.00000000e+00,  7.14758016e-07,  1.36364164e-07,\n",
      "          6.78069156e-08,  3.81009102e-07,  8.78593085e-07,\n",
      "         -1.65357861e-07, -1.07889696e-06,  1.12998499e-08,\n",
      "          3.75946826e-07, -6.61181957e-07, -1.18652133e-06,\n",
      "         -7.82819768e-07, -4.67190546e-07, -5.62227683e-07,\n",
      "         -1.40433485e-07,  4.14351746e-07,  3.66107315e-07,\n",
      "          5.17191268e-07,  5.10009841e-07,  2.01274446e-07,\n",
      "          5.75213654e-08,  0.00000000e+00],\n",
      "        [ 0.00000000e+00,  2.95908450e-07, -1.25854442e-07,\n",
      "         -2.39859872e-07,  3.21623531e-07, -1.68510624e-07,\n",
      "          1.22548784e-06,  5.40363772e-07, -8.72775900e-07,\n",
      "         -9.92671062e-07, -1.01959097e-06, -1.19146762e-06,\n",
      "         -5.26347037e-07,  4.20545831e-07,  6.48146511e-07,\n",
      "          4.41415068e-07,  3.43794966e-07,  1.00661964e-07,\n",
      "          1.99667483e-07,  5.63724623e-09, -4.89986689e-07,\n",
      "         -9.48654247e-07,  0.00000000e+00],\n",
      "        [ 0.00000000e+00, -3.10886350e-07, -3.50617142e-07,\n",
      "         -4.11700910e-07,  8.65692442e-08, -2.27494425e-07,\n",
      "         -8.50631409e-07, -6.06644448e-07, -5.61264130e-07,\n",
      "         -2.74807292e-07,  2.61063434e-07,  2.99792362e-07,\n",
      "          8.81948736e-08,  1.67631413e-07,  2.53239705e-07,\n",
      "         -5.31567679e-08, -2.80220746e-07, -5.91779155e-07,\n",
      "         -6.79819607e-07, -9.68339236e-07, -1.37154484e-06,\n",
      "         -1.63026391e-06,  0.00000000e+00],\n",
      "        [ 0.00000000e+00, -1.00165801e-06, -4.23690778e-07,\n",
      "         -1.33214414e-07, -3.90544216e-07, -2.37217264e-07,\n",
      "         -4.52747571e-07, -3.52759201e-07, -4.33504567e-07,\n",
      "         -5.02798912e-07, -9.32213453e-08,  3.92591659e-07,\n",
      "          3.63909692e-07,  1.77359016e-08, -3.59112732e-07,\n",
      "         -8.37786445e-07, -1.32857440e-06, -1.68927943e-06,\n",
      "         -1.65565859e-06, -1.54971644e-06, -1.01012790e-06,\n",
      "          1.56366255e-07,  0.00000000e+00],\n",
      "        [ 0.00000000e+00, -7.38949382e-08,  5.53691564e-07,\n",
      "          1.53706026e-07, -7.47833269e-07, -1.00395368e-06,\n",
      "         -1.16209958e-06, -8.54480959e-07, -4.75566736e-07,\n",
      "         -2.46400248e-07,  1.10264242e-08,  8.44896419e-07,\n",
      "          1.18691025e-06,  7.59879356e-07,  1.77679027e-07,\n",
      "         -8.54194582e-07, -1.56637441e-06, -1.79354947e-06,\n",
      "         -1.56485919e-06,  3.29899237e-08,  1.78159121e-06,\n",
      "          3.66751419e-06,  0.00000000e+00],\n",
      "        [ 0.00000000e+00,  0.00000000e+00,  0.00000000e+00,\n",
      "          0.00000000e+00,  0.00000000e+00,  0.00000000e+00,\n",
      "          0.00000000e+00,  0.00000000e+00,  0.00000000e+00,\n",
      "          0.00000000e+00,  0.00000000e+00,  0.00000000e+00,\n",
      "          0.00000000e+00,  0.00000000e+00,  0.00000000e+00,\n",
      "          0.00000000e+00,  0.00000000e+00,  0.00000000e+00,\n",
      "          0.00000000e+00,  0.00000000e+00,  0.00000000e+00,\n",
      "          0.00000000e+00,  0.00000000e+00]]], dtype=float32)]\n"
     ]
    }
   ],
   "source": [
    "frf = budgobj.get_data(text='flow right face', totim=1.0)\n",
    "fff = budgobj.get_data(text='flow front face', totim=1.0)\n",
    "\n",
    "print(\"Flow through Right Face of Grid Cells m^3/d \\n\", frf,\n",
    "     \"\\n Flow through Front Face of Grid Cells m^3/d \\n\", fff)"
   ]
  },
  {
   "cell_type": "markdown",
   "metadata": {
    "colab_type": "text",
    "id": "88VU5HnG-ts2"
   },
   "source": [
    "Here, it is good to check if results seem reasonable; for this steady-state model, it makes sense that  we see a constant value in the \"Flow Right Face\" output array as the higher head on the left side of the model induces flow from left to right. The \"Flow Front Face\" array, has very small positive and negative values in it, suggesting that there are potential numerical oscillations in our solution. However, these fluctuations are so small that the output may still be appropriate depending on the application/precision we are looking for. \n",
    "\n",
    "It is good to look for numerical nuances in modeling practice, but the data is much easier to visualize by plotting with flopy's plotting cababilities. "
   ]
  },
  {
   "cell_type": "markdown",
   "metadata": {
    "colab_type": "text",
    "id": "_njupWDf-ts3"
   },
   "source": [
    " <a name=\"X\"></a> \n",
    "## X. Plotting"
   ]
  },
  {
   "cell_type": "code",
   "execution_count": 28,
   "metadata": {
    "colab": {},
    "colab_type": "code",
    "id": "O3iu7UM_-ts4"
   },
   "outputs": [
    {
     "data": {
      "image/png": "[encoded data removed]",
      "text/plain": [
       "<Figure size 720x720 with 2 Axes>"
      ]
     },
     "metadata": {
      "needs_background": "light"
     },
     "output_type": "display_data"
    }
   ],
   "source": [
    "#plot results\n",
    "plt.figure(figsize=(10,10)) #create 10 x 10 figure\n",
    "modelmap = flopy.plot.map.PlotMapView(model=m, layer=0) #use modelmap to attach plot to model\n",
    "grid = modelmap.plot_grid() #plot model grid\n",
    "contour_levels = np.linspace(head[0].min(),head[0].max(),11) #set contour levels for contouring head\n",
    "head_contours = modelmap.contour_array(head, levels=contour_levels) #create head contours\n",
    "flows = modelmap.plot_discharge(frf[0], fff[0], head=head) #create discharge arrows\n",
    "\n",
    "#display parameters\n",
    "plt.xlabel('Lx (m)',fontsize = 14)\n",
    "plt.ylabel('Ly (m)',fontsize = 14)\n",
    "plt.title('Steady-State Model, Flow(m^3/d) and Head(m) Results', fontsize = 15, fontweight = 'bold')\n",
    "plt.colorbar(head_contours,aspect=5)\n",
    "plt.show(modelmap)"
   ]
  }
 ],
 "metadata": {
  "colab": {
   "name": "Flopy Tutorial 1- Steady-State, Confined Aquifer.ipynb",
   "provenance": [],
   "toc_visible": true
  },
  "kernelspec": {
   "display_name": "Python 3",
   "language": "python",
   "name": "python3"
  },
  "language_info": {
   "codemirror_mode": {
    "name": "ipython",
    "version": 3
   },
   "file_extension": ".py",
   "mimetype": "text/x-python",
   "name": "python",
   "nbconvert_exporter": "python",
   "pygments_lexer": "ipython3",
   "version": "3.7.6"
  }
 },
 "nbformat": 4,
 "nbformat_minor": 1
}
