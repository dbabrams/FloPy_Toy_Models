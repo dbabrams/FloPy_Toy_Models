{
  "nbformat": 4,
  "nbformat_minor": 0,
  "metadata": {
    "colab": {
      "name": "Untitled1.ipynb",
      "provenance": [],
      "authorship_tag": "ABX9TyOGjEdbffFgQsgG8pQZpufj",
      "include_colab_link": true
    },
    "kernelspec": {
      "name": "python3",
      "display_name": "Python 3"
    }
  },
  "cells": [
    {
      "cell_type": "markdown",
      "metadata": {
        "id": "view-in-github",
        "colab_type": "text"
      },
      "source": [
        "<a href=\"https://colab.research.google.com/github/dbabrams/FloPy_Toy_Models/blob/master/CoLabMason.ipynb\" target=\"_parent\"><img src=\"https://colab.research.google.com/assets/colab-badge.svg\" alt=\"Open In Colab\"/></a>"
      ]
    },
    {
      "cell_type": "code",
      "metadata": {
        "id": "z0rwRhzkGuf3",
        "colab_type": "code",
        "outputId": "7a47dab9-4ae4-481d-e680-6503d00dcf5a",
        "colab": {
          "base_uri": "https://localhost:8080/",
          "height": 391
        }
      },
      "source": [
        "!pip install pyproj\n",
        "!pip install rasterio\n",
        "!pip install flopy\n",
        "!pip install https://github.com/modflowpy/pymake/zipball/master"
      ],
      "execution_count": 126,
      "outputs": [
        {
          "output_type": "stream",
          "text": [
            "Requirement already satisfied: pyproj in /usr/local/lib/python3.6/dist-packages (2.6.0)\n",
            "Requirement already satisfied: rasterio in /usr/local/lib/python3.6/dist-packages (1.1.3)\n",
            "Requirement already satisfied: attrs in /usr/local/lib/python3.6/dist-packages (from rasterio) (19.3.0)\n",
            "Requirement already satisfied: numpy in /usr/local/lib/python3.6/dist-packages (from rasterio) (1.18.2)\n",
            "Requirement already satisfied: affine in /usr/local/lib/python3.6/dist-packages (from rasterio) (2.3.0)\n",
            "Requirement already satisfied: click-plugins in /usr/local/lib/python3.6/dist-packages (from rasterio) (1.1.1)\n",
            "Requirement already satisfied: click<8,>=4.0 in /usr/local/lib/python3.6/dist-packages (from rasterio) (7.1.1)\n",
            "Requirement already satisfied: snuggs>=1.4.1 in /usr/local/lib/python3.6/dist-packages (from rasterio) (1.4.7)\n",
            "Requirement already satisfied: cligj>=0.5 in /usr/local/lib/python3.6/dist-packages (from rasterio) (0.5.0)\n",
            "Requirement already satisfied: pyparsing>=2.1.6 in /usr/local/lib/python3.6/dist-packages (from snuggs>=1.4.1->rasterio) (2.4.6)\n",
            "Requirement already satisfied: flopy in /usr/local/lib/python3.6/dist-packages (3.3.0)\n",
            "Requirement already satisfied: numpy>=1.9 in /usr/local/lib/python3.6/dist-packages (from flopy) (1.18.2)\n",
            "Collecting https://github.com/modflowpy/pymake/zipball/master\n",
            "\u001b[?25l  Downloading https://github.com/modflowpy/pymake/zipball/master\n",
            "\u001b[K     | 153kB 811kB/s\n",
            "\u001b[?25hBuilding wheels for collected packages: pymake\n",
            "  Building wheel for pymake (setup.py) ... \u001b[?25l\u001b[?25hdone\n",
            "  Created wheel for pymake: filename=pymake-1.1.0-cp36-none-any.whl size=38199 sha256=c8d525f330dbfd8078195686f0ee1b1b222cb743f8432fe188ecb25c5d38da5d\n",
            "  Stored in directory: /tmp/pip-ephem-wheel-cache-omwtjjlp/wheels/4e/91/61/e7ad711088661efc2055f76212317884c2ac12bae66f318fdc\n",
            "Successfully built pymake\n",
            "Installing collected packages: pymake\n",
            "Successfully installed pymake-1.1.0\n"
          ],
          "name": "stdout"
        }
      ]
    },
    {
      "cell_type": "code",
      "metadata": {
        "id": "It0QTEJCQCuV",
        "colab_type": "code",
        "colab": {
          "base_uri": "https://localhost:8080/",
          "height": 34
        },
        "outputId": "97637717-617d-4b5f-e90a-b7b64a48293f"
      },
      "source": [
        "import flopy\n",
        "import matplotlib as mp\n",
        "import pandas as pd\n",
        "import pyproj\n",
        "import rasterio \n",
        "import matplotlib.pyplot as plt\n",
        "import numpy as np\n",
        "from google.colab import drive\n",
        "from pydrive.auth import GoogleAuth\n",
        "from pydrive.drive import GoogleDrive\n",
        "from google.colab import auth\n",
        "from oauth2client.client import GoogleCredentials\n"
      ],
      "execution_count": 2,
      "outputs": [
        {
          "output_type": "stream",
          "text": [
            "flopy is installed in /usr/local/lib/python3.6/dist-packages/flopy\n"
          ],
          "name": "stdout"
        }
      ]
    },
    {
      "cell_type": "code",
      "metadata": {
        "id": "hstJX5XhPT9r",
        "colab_type": "code",
        "colab": {}
      },
      "source": [
        "auth.authenticate_user()\n",
        "gauth = GoogleAuth()\n",
        "gauth.credentials = GoogleCredentials.get_application_default()\n",
        "drive = GoogleDrive(gauth)"
      ],
      "execution_count": 0,
      "outputs": []
    },
    {
      "cell_type": "code",
      "metadata": {
        "id": "NITzYdM_PgFM",
        "colab_type": "code",
        "colab": {}
      },
      "source": [
        "downloaded = drive.CreateFile({'id':\"1vQgYEh41Cpx_XcsYnsnsh8zLb6j9RCRy\"})   # replace the id with id of file you want to access\n",
        "downloaded.GetContentFile('dem_ill.tif')\n",
        "\n",
        "downloaded = drive.CreateFile({'id':\"1JsAiGG4RvcfYrQtfgXRW9ZVfAkQ1yRVu\"})\n",
        "downloaded.GetContentFile('rivers_625.csv')"
      ],
      "execution_count": 0,
      "outputs": []
    },
    {
      "cell_type": "code",
      "metadata": {
        "id": "GRcmZ0Oudvp1",
        "colab_type": "code",
        "colab": {
          "base_uri": "https://localhost:8080/",
          "height": 1000
        },
        "outputId": "a7a23e49-b5ff-4398-db79-49cc88543db8"
      },
      "source": [
        "import pymake\n",
        "\n",
        "def make_mf2005():\n",
        "    pymake.build_apps('mf2005')\n",
        "\n",
        "if __name__ == \"__main__\":\n",
        "    make_mf2005()"
      ],
      "execution_count": 127,
      "outputs": [
        {
          "output_type": "stream",
          "text": [
            "mf2005 will be built for the \"linux\" operating system\n",
            "\n",
            "mf2005 will be placed in the directory:\n",
            "    \".\"\n",
            "\n",
            "mf2005 will be built using \"single\" precision floats.\n",
            "\n",
            "mf2005 will be built as a \"release\" application.\n",
            "\n",
            "mf2005 fortran code will be built with \"gfortran\".\n",
            "mf2005 c/c++ code will be built with \"gcc\".\n",
            "\n",
            "mf2005 will use the following predefined syslibs:\n",
            "    -lc\n",
            "\n",
            "mf2005 will be built for \"intel64\" architecture.\n",
            "\n",
            "downloading file:         True\n",
            "verified download:        True\n",
            "download timeout:         30 sec.\n",
            "cleaning extracted files: True\n",
            "\n",
            "extra files are not being read\n",
            "\n",
            "Attempting to download the file:\n",
            "    https://water.usgs.gov/water-resources/software/MODFLOW-2005/MF2005.1_12u.zip\n",
            " download attempt: 1\n",
            "   file size: 6,585,179 bytes\n",
            "     downloaded   204,800 bytes of 6,585,179 bytes (   3.1100%)\n",
            "     downloaded   409,600 bytes of 6,585,179 bytes (   6.2200%)\n",
            "     downloaded   614,400 bytes of 6,585,179 bytes (   9.3300%)\n",
            "     downloaded   819,200 bytes of 6,585,179 bytes (  12.4401%)\n",
            "     downloaded 1,024,000 bytes of 6,585,179 bytes (  15.5501%)\n",
            "     downloaded 1,228,800 bytes of 6,585,179 bytes (  18.6601%)\n",
            "     downloaded 1,433,600 bytes of 6,585,179 bytes (  21.7701%)\n",
            "     downloaded 1,638,400 bytes of 6,585,179 bytes (  24.8801%)\n",
            "     downloaded 1,843,200 bytes of 6,585,179 bytes (  27.9901%)\n",
            "     downloaded 2,048,000 bytes of 6,585,179 bytes (  31.1001%)\n",
            "     downloaded 2,252,800 bytes of 6,585,179 bytes (  34.2102%)\n",
            "     downloaded 2,457,600 bytes of 6,585,179 bytes (  37.3202%)\n",
            "     downloaded 2,662,400 bytes of 6,585,179 bytes (  40.4302%)\n",
            "     downloaded 2,867,200 bytes of 6,585,179 bytes (  43.5402%)\n",
            "     downloaded 3,072,000 bytes of 6,585,179 bytes (  46.6502%)\n",
            "     downloaded 3,276,800 bytes of 6,585,179 bytes (  49.7602%)\n",
            "     downloaded 3,481,600 bytes of 6,585,179 bytes (  52.8702%)\n",
            "     downloaded 3,686,400 bytes of 6,585,179 bytes (  55.9803%)\n",
            "     downloaded 3,891,200 bytes of 6,585,179 bytes (  59.0903%)\n",
            "     downloaded 4,096,000 bytes of 6,585,179 bytes (  62.2003%)\n",
            "     downloaded 4,300,800 bytes of 6,585,179 bytes (  65.3103%)\n",
            "     downloaded 4,505,600 bytes of 6,585,179 bytes (  68.4203%)\n",
            "     downloaded 4,710,400 bytes of 6,585,179 bytes (  71.5303%)\n",
            "     downloaded 4,915,200 bytes of 6,585,179 bytes (  74.6403%)\n",
            "     downloaded 5,120,000 bytes of 6,585,179 bytes (  77.7504%)\n",
            "     downloaded 5,324,800 bytes of 6,585,179 bytes (  80.8604%)\n",
            "     downloaded 5,529,600 bytes of 6,585,179 bytes (  83.9704%)\n",
            "     downloaded 5,734,400 bytes of 6,585,179 bytes (  87.0804%)\n",
            "     downloaded 5,939,200 bytes of 6,585,179 bytes (  90.1904%)\n",
            "     downloaded 6,144,000 bytes of 6,585,179 bytes (  93.3004%)\n",
            "     downloaded 6,348,800 bytes of 6,585,179 bytes (  96.4104%)\n",
            "     downloaded 6,553,600 bytes of 6,585,179 bytes (  99.5205%)\n",
            "     downloaded 6,585,179 bytes of 6,585,179 bytes ( 100.0000%)\n",
            "Extracting the zipfile...\n",
            "Deleting the zipfile...\n",
            "Done downloading and extracting...\n",
            "\n",
            "replacing select source files for mf2005\n",
            "\n",
            "compiling...mf2005\n",
            "\n",
            "source files are in:\n",
            "    temp/MF2005.1_12u/src\n",
            "\n",
            "executable name to be created:\n",
            "    /content/mf2005\n",
            "\n",
            "replacing...\"./src_temp/openspec.inc\"\n",
            "gfortran --help -v\n",
            "  -ffpe-summary flag available: True\n",
            "gfortran --help -v\n",
            "  -ffpe-trap flag available: True\n",
            "\n",
            "Compiling object files for mf2005...\n",
            "gfortran -O2 -ffpe-summary=overflow -ffpe-trap=overflow,zero,invalid -fbacktrace -I./src_temp -c ./src_temp/gwflakmodule.f -o ./obj_temp/gwflakmodule.o -I./obj_temp -J./mod_temp\n",
            "gfortran -O2 -ffpe-summary=overflow -ffpe-trap=overflow,zero,invalid -fbacktrace -I./src_temp -c ./src_temp/gmg7_c_interface.f90 -o ./obj_temp/gmg7_c_interface.o -I./obj_temp -J./mod_temp\n",
            "gfortran -O2 -ffpe-summary=overflow -ffpe-trap=overflow,zero,invalid -fbacktrace -I./src_temp -c ./src_temp/gwf2bas7.f -o ./obj_temp/gwf2bas7.o -I./obj_temp -J./mod_temp\n",
            "gfortran -O2 -ffpe-summary=overflow -ffpe-trap=overflow,zero,invalid -fbacktrace -I./src_temp -c ./src_temp/gwf2hfb7.f -o ./obj_temp/gwf2hfb7.o -I./obj_temp -J./mod_temp\n",
            "gfortran -O2 -ffpe-summary=overflow -ffpe-trap=overflow,zero,invalid -fbacktrace -I./src_temp -c ./src_temp/pcgn_solve2.f90 -o ./obj_temp/pcgn_solve2.o -I./obj_temp -J./mod_temp\n",
            "gfortran -O2 -ffpe-summary=overflow -ffpe-trap=overflow,zero,invalid -fbacktrace -I./src_temp -c ./src_temp/gwfsfrmodule.f -o ./obj_temp/gwfsfrmodule.o -I./obj_temp -J./mod_temp\n",
            "gfortran -O2 -ffpe-summary=overflow -ffpe-trap=overflow,zero,invalid -fbacktrace -I./src_temp -c ./src_temp/gwf2wel7.f -o ./obj_temp/gwf2wel7.o -I./obj_temp -J./mod_temp\n",
            "gfortran -O2 -ffpe-summary=overflow -ffpe-trap=overflow,zero,invalid -fbacktrace -I./src_temp -c ./src_temp/obs2bas7.f -o ./obj_temp/obs2bas7.o -I./obj_temp -J./mod_temp\n",
            "gfortran -O2 -ffpe-summary=overflow -ffpe-trap=overflow,zero,invalid -fbacktrace -I./src_temp -c ./src_temp/gwf2drt7.f -o ./obj_temp/gwf2drt7.o -I./obj_temp -J./mod_temp\n",
            "gfortran -O2 -ffpe-summary=overflow -ffpe-trap=overflow,zero,invalid -fbacktrace -I./src_temp -c ./src_temp/gwf2rch7.f -o ./obj_temp/gwf2rch7.o -I./obj_temp -J./mod_temp\n",
            "gfortran -O2 -ffpe-summary=overflow -ffpe-trap=overflow,zero,invalid -fbacktrace -I./src_temp -c ./src_temp/gmg7.f -o ./obj_temp/gmg7.o -I./obj_temp -J./mod_temp\n",
            "gfortran -O2 -ffpe-summary=overflow -ffpe-trap=overflow,zero,invalid -fbacktrace -I./src_temp -c ./src_temp/gwf2evt7.f -o ./obj_temp/gwf2evt7.o -I./obj_temp -J./mod_temp\n",
            "gfortran -O2 -ffpe-summary=overflow -ffpe-trap=overflow,zero,invalid -fbacktrace -I./src_temp -c ./src_temp/gwf2ibs7.f -o ./obj_temp/gwf2ibs7.o -I./obj_temp -J./mod_temp\n",
            "gfortran -O2 -ffpe-summary=overflow -ffpe-trap=overflow,zero,invalid -fbacktrace -I./src_temp -c ./src_temp/parutl7.f -o ./obj_temp/parutl7.o -I./obj_temp -J./mod_temp\n",
            "gfortran -O2 -ffpe-summary=overflow -ffpe-trap=overflow,zero,invalid -fbacktrace -I./src_temp -c ./src_temp/de47.f -o ./obj_temp/de47.o -I./obj_temp -J./mod_temp\n",
            "gfortran -O2 -ffpe-summary=overflow -ffpe-trap=overflow,zero,invalid -fbacktrace -I./src_temp -c ./src_temp/gwf2fhb7.f -o ./obj_temp/gwf2fhb7.o -I./obj_temp -J./mod_temp\n",
            "gfortran -O2 -ffpe-summary=overflow -ffpe-trap=overflow,zero,invalid -fbacktrace -I./src_temp -c ./src_temp/sip7.f -o ./obj_temp/sip7.o -I./obj_temp -J./mod_temp\n",
            "gfortran -O2 -ffpe-summary=overflow -ffpe-trap=overflow,zero,invalid -fbacktrace -I./src_temp -c ./src_temp/gwf2ets7.f -o ./obj_temp/gwf2ets7.o -I./obj_temp -J./mod_temp\n",
            "gfortran -O2 -ffpe-summary=overflow -ffpe-trap=overflow,zero,invalid -fbacktrace -I./src_temp -c ./src_temp/gwf2res7.f -o ./obj_temp/gwf2res7.o -I./obj_temp -J./mod_temp\n",
            "gfortran -O2 -ffpe-summary=overflow -ffpe-trap=overflow,zero,invalid -fbacktrace -I./src_temp -c ./src_temp/gwf2gag7.f -o ./obj_temp/gwf2gag7.o -I./obj_temp -J./mod_temp\n",
            "gfortran -O2 -ffpe-summary=overflow -ffpe-trap=overflow,zero,invalid -fbacktrace -I./src_temp -c ./src_temp/gwf2chd7.f -o ./obj_temp/gwf2chd7.o -I./obj_temp -J./mod_temp\n",
            "gfortran -O2 -ffpe-summary=overflow -ffpe-trap=overflow,zero,invalid -fbacktrace -I./src_temp -c ./src_temp/obs2chd7.f -o ./obj_temp/obs2chd7.o -I./obj_temp -J./mod_temp\n",
            "gfortran -O2 -ffpe-summary=overflow -ffpe-trap=overflow,zero,invalid -fbacktrace -I./src_temp -c ./src_temp/gwf2swt7.f -o ./obj_temp/gwf2swt7.o -I./obj_temp -J./mod_temp\n",
            "gfortran -O2 -ffpe-summary=overflow -ffpe-trap=overflow,zero,invalid -fbacktrace -I./src_temp -c ./src_temp/gwf2swr7util.f -o ./obj_temp/gwf2swr7util.o -I./obj_temp -J./mod_temp\n",
            "gfortran -O2 -ffpe-summary=overflow -ffpe-trap=overflow,zero,invalid -fbacktrace -I./src_temp -c ./src_temp/pcg7.f -o ./obj_temp/pcg7.o -I./obj_temp -J./mod_temp\n",
            "gfortran -O2 -ffpe-summary=overflow -ffpe-trap=overflow,zero,invalid -fbacktrace -I./src_temp -c ./src_temp/gwf2riv7.f -o ./obj_temp/gwf2riv7.o -I./obj_temp -J./mod_temp\n",
            "gfortran -O2 -ffpe-summary=overflow -ffpe-trap=overflow,zero,invalid -fbacktrace -I./src_temp -c ./src_temp/gwf2drn7.f -o ./obj_temp/gwf2drn7.o -I./obj_temp -J./mod_temp\n",
            "gfortran -O2 -ffpe-summary=overflow -ffpe-trap=overflow,zero,invalid -fbacktrace -I./src_temp -c ./src_temp/gwfuzfmodule.f -o ./obj_temp/gwfuzfmodule.o -I./obj_temp -J./mod_temp\n",
            "gfortran -O2 -ffpe-summary=overflow -ffpe-trap=overflow,zero,invalid -fbacktrace -I./src_temp -c ./src_temp/pcgn2.f90 -o ./obj_temp/pcgn2.o -I./obj_temp -J./mod_temp\n",
            "gfortran -O2 -ffpe-summary=overflow -ffpe-trap=overflow,zero,invalid -fbacktrace -I./src_temp -c ./src_temp/utl7.f -o ./obj_temp/utl7.o -I./obj_temp -J./mod_temp\n",
            "gfortran -O2 -ffpe-summary=overflow -ffpe-trap=overflow,zero,invalid -fbacktrace -I./src_temp -c ./src_temp/mhc7.f -o ./obj_temp/mhc7.o -I./obj_temp -J./mod_temp\n",
            "gfortran -O2 -ffpe-summary=overflow -ffpe-trap=overflow,zero,invalid -fbacktrace -I./src_temp -c ./src_temp/gwf2lpf7.f -o ./obj_temp/gwf2lpf7.o -I./obj_temp -J./mod_temp\n",
            "gfortran -O2 -ffpe-summary=overflow -ffpe-trap=overflow,zero,invalid -fbacktrace -I./src_temp -c ./src_temp/gwf2str7.f -o ./obj_temp/gwf2str7.o -I./obj_temp -J./mod_temp\n",
            "gfortran -O2 -ffpe-summary=overflow -ffpe-trap=overflow,zero,invalid -fbacktrace -I./src_temp -c ./src_temp/gwf2ghb7.f -o ./obj_temp/gwf2ghb7.o -I./obj_temp -J./mod_temp\n",
            "gfortran -O2 -ffpe-summary=overflow -ffpe-trap=overflow,zero,invalid -fbacktrace -I./src_temp -c ./src_temp/gwf2bcf7.f -o ./obj_temp/gwf2bcf7.o -I./obj_temp -J./mod_temp\n",
            "gfortran -O2 -ffpe-summary=overflow -ffpe-trap=overflow,zero,invalid -fbacktrace -I./src_temp -c ./src_temp/gwf2huf7.f -o ./obj_temp/gwf2huf7.o -I./obj_temp -J./mod_temp\n",
            "gfortran -O2 -ffpe-summary=overflow -ffpe-trap=overflow,zero,invalid -fbacktrace -I./src_temp -c ./src_temp/gwf2uzf1.f -o ./obj_temp/gwf2uzf1.o -I./obj_temp -J./mod_temp\n",
            "gfortran -O2 -ffpe-summary=overflow -ffpe-trap=overflow,zero,invalid -fbacktrace -I./src_temp -c ./src_temp/obs2ghb7.f -o ./obj_temp/obs2ghb7.o -I./obj_temp -J./mod_temp\n",
            "gfortran -O2 -ffpe-summary=overflow -ffpe-trap=overflow,zero,invalid -fbacktrace -I./src_temp -c ./src_temp/obs2drn7.f -o ./obj_temp/obs2drn7.o -I./obj_temp -J./mod_temp\n",
            "gfortran -O2 -ffpe-summary=overflow -ffpe-trap=overflow,zero,invalid -fbacktrace -I./src_temp -c ./src_temp/gwf2sfr7.f -o ./obj_temp/gwf2sfr7.o -I./obj_temp -J./mod_temp\n",
            "gfortran -O2 -ffpe-summary=overflow -ffpe-trap=overflow,zero,invalid -fbacktrace -I./src_temp -c ./src_temp/gwf2mnw27.f -o ./obj_temp/gwf2mnw27.o -I./obj_temp -J./mod_temp\n",
            "gfortran -O2 -ffpe-summary=overflow -ffpe-trap=overflow,zero,invalid -fbacktrace -I./src_temp -c ./src_temp/obs2riv7.f -o ./obj_temp/obs2riv7.o -I./obj_temp -J./mod_temp\n",
            "gfortran -O2 -ffpe-summary=overflow -ffpe-trap=overflow,zero,invalid -fbacktrace -I./src_temp -c ./src_temp/gwf2swi27.f -o ./obj_temp/gwf2swi27.o -I./obj_temp -J./mod_temp\n",
            "gfortran -O2 -ffpe-summary=overflow -ffpe-trap=overflow,zero,invalid -fbacktrace -I./src_temp -c ./src_temp/gwf2sub7.f -o ./obj_temp/gwf2sub7.o -I./obj_temp -J./mod_temp\n",
            "gfortran -O2 -ffpe-summary=overflow -ffpe-trap=overflow,zero,invalid -fbacktrace -I./src_temp -c ./src_temp/hufutl7.f -o ./obj_temp/hufutl7.o -I./obj_temp -J./mod_temp\n",
            "gfortran -O2 -ffpe-summary=overflow -ffpe-trap=overflow,zero,invalid -fbacktrace -I./src_temp -c ./src_temp/gwf2hydmod7.f -o ./obj_temp/gwf2hydmod7.o -I./obj_temp -J./mod_temp\n",
            "gfortran -O2 -ffpe-summary=overflow -ffpe-trap=overflow,zero,invalid -fbacktrace -I./src_temp -c ./src_temp/mf2005.f -o ./obj_temp/mf2005.o -I./obj_temp -J./mod_temp\n",
            "gfortran -O2 -ffpe-summary=overflow -ffpe-trap=overflow,zero,invalid -fbacktrace -I./src_temp -c ./src_temp/gwf2lak7.f -o ./obj_temp/gwf2lak7.o -I./obj_temp -J./mod_temp\n",
            "gfortran -O2 -ffpe-summary=overflow -ffpe-trap=overflow,zero,invalid -fbacktrace -I./src_temp -c ./src_temp/obs2str7.f -o ./obj_temp/obs2str7.o -I./obj_temp -J./mod_temp\n",
            "gfortran -O2 -ffpe-summary=overflow -ffpe-trap=overflow,zero,invalid -fbacktrace -I./src_temp -c ./src_temp/gwf2mnw17.f -o ./obj_temp/gwf2mnw17.o -I./obj_temp -J./mod_temp\n",
            "gfortran -O2 -ffpe-summary=overflow -ffpe-trap=overflow,zero,invalid -fbacktrace -I./src_temp -c ./src_temp/gwf2swr7.f -o ./obj_temp/gwf2swr7.o -I./obj_temp -J./mod_temp\n",
            "gfortran -O2 -ffpe-summary=overflow -ffpe-trap=overflow,zero,invalid -fbacktrace -I./src_temp -c ./src_temp/gwf2mnw2i7.f -o ./obj_temp/gwf2mnw2i7.o -I./obj_temp -J./mod_temp\n",
            "gfortran -O2 -ffpe-summary=overflow -ffpe-trap=overflow,zero,invalid -fbacktrace -I./src_temp -c ./src_temp/lmt8.f -o ./obj_temp/lmt8.o -I./obj_temp -J./mod_temp\n",
            "gcc -O2 -I./src_temp -c ./src_temp/r_vector.c -o ./obj_temp/r_vector.o\n",
            "gcc -O2 -I./src_temp -c ./src_temp/solvers.c -o ./obj_temp/solvers.o\n",
            "gcc -O2 -I./src_temp -c ./src_temp/ccfd.c -o ./obj_temp/ccfd.o\n",
            "gcc -O2 -I./src_temp -c ./src_temp/mf2kgmg.c -o ./obj_temp/mf2kgmg.o\n",
            "\n",
            "Linking object files to make mf2005...\n",
            "gfortran -O2 -ffpe-summary=overflow -ffpe-trap=overflow,zero,invalid -fbacktrace -o /content/mf2005 ./obj_temp/gwflakmodule.o ./obj_temp/gmg7_c_interface.o ./obj_temp/gwf2bas7.o ./obj_temp/gwf2hfb7.o ./obj_temp/pcgn_solve2.o ./obj_temp/gwfsfrmodule.o ./obj_temp/gwf2wel7.o ./obj_temp/obs2bas7.o ./obj_temp/gwf2drt7.o ./obj_temp/gwf2rch7.o ./obj_temp/gmg7.o ./obj_temp/gwf2evt7.o ./obj_temp/gwf2ibs7.o ./obj_temp/parutl7.o ./obj_temp/de47.o ./obj_temp/gwf2fhb7.o ./obj_temp/sip7.o ./obj_temp/gwf2ets7.o ./obj_temp/gwf2res7.o ./obj_temp/gwf2gag7.o ./obj_temp/gwf2chd7.o ./obj_temp/obs2chd7.o ./obj_temp/gwf2swt7.o ./obj_temp/gwf2swr7util.o ./obj_temp/pcg7.o ./obj_temp/gwf2riv7.o ./obj_temp/gwf2drn7.o ./obj_temp/gwfuzfmodule.o ./obj_temp/pcgn2.o ./obj_temp/utl7.o ./obj_temp/mhc7.o ./obj_temp/gwf2lpf7.o ./obj_temp/gwf2str7.o ./obj_temp/gwf2ghb7.o ./obj_temp/gwf2bcf7.o ./obj_temp/gwf2huf7.o ./obj_temp/gwf2uzf1.o ./obj_temp/obs2ghb7.o ./obj_temp/obs2drn7.o ./obj_temp/gwf2sfr7.o ./obj_temp/gwf2mnw27.o ./obj_temp/obs2riv7.o ./obj_temp/gwf2swi27.o ./obj_temp/gwf2sub7.o ./obj_temp/hufutl7.o ./obj_temp/gwf2hydmod7.o ./obj_temp/mf2005.o ./obj_temp/gwf2lak7.o ./obj_temp/obs2str7.o ./obj_temp/gwf2mnw17.o ./obj_temp/gwf2swr7.o ./obj_temp/gwf2mnw2i7.o ./obj_temp/lmt8.o ./obj_temp/r_vector.o ./obj_temp/solvers.o ./obj_temp/ccfd.o ./obj_temp/mf2kgmg.o -lc\n",
            "\n",
            "Cleaning up temporary source, object, and module files...\n",
            "deleting /content/temp\n",
            "    removal attempt  1 of 10\n",
            "\n",
            "\n",
            "elapsed download and compile time (hh:mm:ss.ms): 0:01:08.670860\n",
            "\n",
            "elapsed time (hh:mm:ss.ms): 0:01:08.671327\n",
            "\n"
          ],
          "name": "stdout"
        }
      ]
    },
    {
      "cell_type": "code",
      "metadata": {
        "id": "Yw9xcp5CXDYe",
        "colab_type": "code",
        "colab": {}
      },
      "source": [
        "!cp mf2005 /usr/local/bin\n",
        "!chmod 755 /usr/local/bin/mf2005"
      ],
      "execution_count": 0,
      "outputs": []
    },
    {
      "cell_type": "code",
      "metadata": {
        "id": "-v2Uc_JWSsu1",
        "colab_type": "code",
        "colab": {}
      },
      "source": [
        "'''Create a MODFLOW model object and run with MODFLOW 2005.'''\n",
        "#----------------------------------------------------------------------------\n",
        "modelname = \"my_model\"\n",
        "m = flopy.modflow.Modflow(modelname, exe_name = 'mf2005')\n",
        "#----------------------------------------------------------------------------"
      ],
      "execution_count": 0,
      "outputs": []
    },
    {
      "cell_type": "code",
      "metadata": {
        "id": "xKgi6FiwSwY0",
        "colab_type": "code",
        "colab": {
          "base_uri": "https://localhost:8080/",
          "height": 34
        },
        "outputId": "9f62c31f-2ffc-43a1-a8df-09564e2ebec6"
      },
      "source": [
        "#----------------------------------------------------------------------------\n",
        "# Define model domain in lat/long coordinates\n",
        "sw_lat =  40.045872 #southwest latitude\n",
        "sw_long = -90.397402 #southwest longitude\n",
        "ne_lat =  40.575944 #northeast latitude\n",
        "ne_long = -89.587339 #northeast longitude\n",
        "\n",
        "illimap = {'proj': 'lcc', # Lambert Conformal Conic\n",
        "     'ellps': 'clrk66',\n",
        "     'lon_0': -89.5,\n",
        "     'lat_0': 33,\n",
        "     'lat_1': 33,\n",
        "     'lat_2': 45,\n",
        "     'x_0': 2999994*0.3048,\n",
        "     'y_0': 0}\n",
        "\n",
        "prj = pyproj.Proj(illimap)\n",
        "\n",
        "wgs84 = pyproj.Proj(\"epsg:4326\")\n",
        "\n",
        "nex, ney = pyproj.transform(wgs84,illimap,ne_lat,ne_long)\n",
        "swx, swy = pyproj.transform(wgs84,illimap,sw_lat,sw_long)\n",
        "\n",
        "nex, ney = round(nex/0.3048,-4), round(ney/0.3048,-4)\n",
        "swx, swy = round(swx/0.3048,-4), round(swy/0.3048,-4)\n",
        "print(nex,ney,swx,swy)\n",
        "\n",
        "# Assign Discretization variables\n",
        "Lx = nex-swx # Width of the model domain\n",
        "Ly = ney-swy # Height of the model domain\n",
        "ztop = 0. # Model top elevation\n",
        "zbot = -50. # Model bottom elevation\n",
        "nlay = 1 # Number of model layers\n",
        "dx = 1000\n",
        "dy = 1000\n",
        "nrow = int(Ly/dy) # Number of rows\n",
        "ncol = int(Lx/dx) # Number of columns\n",
        "\n",
        "nper = 1 #specify number of stress periods\n",
        "steady = [True] #specify if stress period is transient or steady-state\n",
        "\n",
        "# create flopy discretization object\n",
        "# length and time are feet (1) and days (4).\n",
        "# See https://water.usgs.gov/ogw/modflow/MODFLOW-2005-Guide/index.html?dis.htm \n",
        "dis = flopy.modflow.ModflowDis(model=m, nlay=nlay, nrow=nrow, ncol=ncol, \n",
        "                               delr=dx, delc=dy, top=ztop, botm=zbot, \n",
        "                               itmuni = 4, lenuni = 1, \n",
        "                               nper=nper, steady=steady)"
      ],
      "execution_count": 137,
      "outputs": [
        {
          "output_type": "stream",
          "text": [
            "2980000.0 2750000.0 2750000.0 2560000.0\n"
          ],
          "name": "stdout"
        }
      ]
    },
    {
      "cell_type": "code",
      "metadata": {
        "id": "US3C3_-XS0gk",
        "colab_type": "code",
        "colab": {}
      },
      "source": [
        "'''Create the Basic Package, which contains ibound and starting heads'''\n",
        "#----------------------------------------------------------------------------\n",
        "# Create ibound as array of ints (1), indicating all cells are active\n",
        "ibound = np.ones((nlay, nrow, ncol), dtype=np.int32)\n",
        "\n",
        "# Create starting head array, must be floats.\n",
        "strt = 5*np.ones((nlay, nrow, ncol), dtype=np.float32) #set every cell to 5.0\n",
        "\n",
        "#Create flopy bas object\n",
        "bas = flopy.modflow.ModflowBas(m, ibound=ibound, strt=strt)\n",
        "#----------------------------------------------------------------------------"
      ],
      "execution_count": 0,
      "outputs": []
    },
    {
      "cell_type": "code",
      "metadata": {
        "id": "sMP89XUkS4lL",
        "colab_type": "code",
        "colab": {}
      },
      "source": [
        "'''Create the Layer Property Flow Package, which contains information about\n",
        "hydruaulic conductivity and other information about how to calculate flow'''\n",
        "\n",
        "hk = np.ones((nlay,nrow,ncol), dtype=np.float32) #define horizontal hydraulic conductivity\n",
        "vk = np.ones((nlay,nrow,ncol), dtype=np.float32) #define vertical hydraulic conductivity\n",
        "\n",
        "#define layer type as convertible (1), must be an integer\n",
        "#for more information, see https://water.usgs.gov/ogw/modflow/MODFLOW-2005-Guide/index.html?dis.htm\n",
        "laytyp = np.ones((nlay,), dtype=np.int32)\n",
        "\n",
        "# create the LPF object\n",
        "lpf = flopy.modflow.ModflowLpf(model=m, hk=hk, vka=vk, laytyp=laytyp, ipakcb=1)\n"
      ],
      "execution_count": 0,
      "outputs": []
    },
    {
      "cell_type": "code",
      "metadata": {
        "id": "gDZ98E8NS8UG",
        "colab_type": "code",
        "colab": {}
      },
      "source": [
        "\n",
        "\n",
        "rch = flopy.modflow.mfrch.ModflowRch(model=m,rech = 0.00001)\n"
      ],
      "execution_count": 0,
      "outputs": []
    },
    {
      "cell_type": "code",
      "metadata": {
        "id": "pwTDkxudTGmP",
        "colab_type": "code",
        "colab": {}
      },
      "source": [
        "# import stage, lambert x, lambert y\n",
        "dfriv = pd.read_csv('rivers_625.csv')\n",
        "\n",
        "# trim dataframe with river information to the model domain\n",
        "dfriv = dfriv.loc[dfriv['lamx']<nex]\n",
        "dfriv = dfriv.loc[dfriv['lamy']<ney]\n",
        "dfriv = dfriv.loc[dfriv['lamx']>swx]\n",
        "dfriv = dfriv.loc[dfriv['lamy']>swy]\n",
        "\n",
        "# assign all rivers to the upper layer\n",
        "dfriv['lay'] = 0\n",
        "# convert lamx to column and lamy to row\n",
        "dfriv['row'] = np.trunc((ney-dfriv['lamy'])/dy)\n",
        "dfriv['col'] = np.trunc((dfriv['lamx']-swx)/dx)\n",
        "# define the river stage\n",
        "dfriv['stage'] = dfriv['rvr_stg']\n",
        "#define the conductance\n",
        "dfriv['cond'] = 5000. # ft^2/d\n",
        "# define the river bottom\n",
        "dfriv['bot'] = dfriv['stage']-3\n",
        "# drop unneeded files\n",
        "dfriv = dfriv.drop(['STR_ORD_MI','STR_ORD_MA','SUM_LENGTH','rvr_stg','lamx','lamy'],axis=1)\n",
        "\n",
        "# put into a format that MODFLOW wants\n",
        "arriv = dfriv.values\n",
        "riverdata = {0: arriv}\n",
        "\n",
        "riv = flopy.modflow.mfriv.ModflowRiv(model=m, ipakcb=None,stress_period_data=riverdata)\n"
      ],
      "execution_count": 0,
      "outputs": []
    },
    {
      "cell_type": "code",
      "metadata": {
        "id": "NRhnNJU0TJhN",
        "colab_type": "code",
        "colab": {}
      },
      "source": [
        "#create oc stress period data. \n",
        "spd = {(0, 0): ['print head', 'print budget', 'save head', 'save budget']}\n",
        "#create output control object\n",
        "oc = flopy.modflow.ModflowOc(model=m, stress_period_data=spd, compact=True)"
      ],
      "execution_count": 0,
      "outputs": []
    },
    {
      "cell_type": "code",
      "metadata": {
        "id": "0tdHTKB-TMdU",
        "colab_type": "code",
        "colab": {}
      },
      "source": [
        "'''Create the PCG Solver Object'''\n",
        "#----------------------------------------------------------------------------\n",
        "# for the time being, we will use default settings with the solver\n",
        "pcg = flopy.modflow.ModflowPcg(model=m)\n",
        "#----------------------------------------------------------------------------"
      ],
      "execution_count": 0,
      "outputs": []
    },
    {
      "cell_type": "code",
      "metadata": {
        "id": "SIlTlggVTPUl",
        "colab_type": "code",
        "colab": {}
      },
      "source": [
        "m.write_input()"
      ],
      "execution_count": 0,
      "outputs": []
    },
    {
      "cell_type": "code",
      "metadata": {
        "id": "s6ZbnrHqTVjd",
        "colab_type": "code",
        "colab": {
          "base_uri": "https://localhost:8080/",
          "height": 562
        },
        "outputId": "d95f7624-8055-47cd-96c8-71d4b1cc6e3c"
      },
      "source": [
        "'''Plot grid and boundary conditions'''\n",
        "#----------------------------------------------------------------------------\n",
        "plt.figure(figsize=(10,10)) #create 10 x 10 figure\n",
        "modelmap = flopy.plot.PlotMapView(model=m, layer=0)\n",
        "#grid = modelmap.plot_grid()\n",
        "ib = modelmap.plot_ibound()\n",
        "rvr = modelmap.plot_bc(ftype='RIV')\n",
        "#add labels and legend\n",
        "plt.xlabel('Lx (ft)',fontsize = 14)\n",
        "plt.ylabel('Ly (ft)',fontsize = 14)\n",
        "plt.title('Ibound', fontsize = 15, fontweight = 'bold')\n",
        "plt.legend(handles=[mp.patches.Patch(color='blue',label='Const. Head',ec='black'),\n",
        "                   mp.patches.Patch(color='white',label='Active Cell',ec='black'),\n",
        "                   mp.patches.Patch(color='black',label='Inactive Cell',ec='black'),\n",
        "                   mp.patches.Patch(color='green',label='River',ec='green')],\n",
        "                   bbox_to_anchor=(1.5,1.0))\n",
        "#----------------------------------------------------------------------------"
      ],
      "execution_count": 145,
      "outputs": [
        {
          "output_type": "execute_result",
          "data": {
            "text/plain": [
              "<matplotlib.legend.Legend at 0x7fd37d643748>"
            ]
          },
          "metadata": {
            "tags": []
          },
          "execution_count": 145
        },
        {
          "output_type": "display_data",
          "data": {
            "image/png": "[encoded data removed]",
            "text/plain": [
              "<Figure size 720x720 with 1 Axes>"
            ]
          },
          "metadata": {
            "tags": []
          }
        }
      ]
    },
    {
      "cell_type": "code",
      "metadata": {
        "id": "DH-U_oaiWTl8",
        "colab_type": "code",
        "colab": {
          "base_uri": "https://localhost:8080/",
          "height": 255
        },
        "outputId": "ca87e23c-4bc0-49a7-850f-8f5df1dafc7c"
      },
      "source": [
        "# Executve the model run\n",
        "success, mfoutput = m.run_model(pause=False, report=True)\n",
        "# Report back if the model did not successfully complete\n",
        "if not success:\n",
        "    raise Exception('MODFLOW did not terminate normally.')"
      ],
      "execution_count": 146,
      "outputs": [
        {
          "output_type": "stream",
          "text": [
            "FloPy is using the following  executable to run the model: /usr/local/bin/mf2005\n",
            "\n",
            "                                  MODFLOW-2005     \n",
            "    U.S. GEOLOGICAL SURVEY MODULAR FINITE-DIFFERENCE GROUND-WATER FLOW MODEL\n",
            "                             Version 1.12.00 2/3/2017                        \n",
            "\n",
            " Using NAME file: my_model.nam \n",
            " Run start date and time (yyyy/mm/dd hh:mm:ss): 2020/04/07  2:31:26\n",
            "\n",
            " Solving:  Stress period:     1    Time step:     1    Ground-Water Flow Eqn.\n",
            " Run end date and time (yyyy/mm/dd hh:mm:ss): 2020/04/07  2:31:27\n",
            " Elapsed run time:  0.495 Seconds\n",
            "\n",
            "  Normal termination of simulation\n"
          ],
          "name": "stdout"
        }
      ]
    },
    {
      "cell_type": "code",
      "metadata": {
        "id": "qPHG6hyP8lU5",
        "colab_type": "code",
        "colab": {}
      },
      "source": [
        "ildem = rasterio.open('dem_ill.tif')\n",
        "elev = ildem.read(1)\n",
        "elev = np.where(elev<0,400,elev)\n",
        "plt.imshow(elev, cmap='pink')"
      ],
      "execution_count": 0,
      "outputs": []
    }
  ]
}